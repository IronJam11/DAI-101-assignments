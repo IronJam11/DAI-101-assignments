{
 "cells": [
  {
   "cell_type": "markdown",
   "id": "379c822e",
   "metadata": {},
   "source": [
    "# Importing libraries required for the analysis"
   ]
  },
  {
   "cell_type": "code",
   "execution_count": 12,
   "id": "6aa1de9f",
   "metadata": {},
   "outputs": [],
   "source": [
    "import pandas as pd\n",
    "import numpy as np\n",
    "import seaborn as sns\n",
    "import matplotlib.pyplot as plt\n",
    "import matplotlib.patches as mpatches\n",
    "import plotly.express as px"
   ]
  },
  {
   "cell_type": "markdown",
   "id": "0d604a72",
   "metadata": {},
   "source": [
    "# Data Pre-Processing"
   ]
  },
  {
   "cell_type": "code",
   "execution_count": 13,
   "id": "1f67ffa9",
   "metadata": {},
   "outputs": [],
   "source": [
    "df = pd.read_csv(\"./data.csv\")"
   ]
  },
  {
   "cell_type": "code",
   "execution_count": 14,
   "id": "f4594aef",
   "metadata": {},
   "outputs": [
    {
     "name": "stdout",
     "output_type": "stream",
     "text": [
      "<class 'pandas.core.frame.DataFrame'>\n",
      "RangeIndex: 3467 entries, 0 to 3466\n",
      "Data columns (total 20 columns):\n",
      " #   Column                  Non-Null Count  Dtype  \n",
      "---  ------                  --------------  -----  \n",
      " 0   State_Code              3467 non-null   object \n",
      " 1   Account_Length_Months   3467 non-null   int64  \n",
      " 2   Area_Code               3467 non-null   int64  \n",
      " 3   Intl_Plan               3467 non-null   int64  \n",
      " 4   VM_Plan                 3467 non-null   int64  \n",
      " 5   VM_Messages             3467 non-null   int64  \n",
      " 6   Avg_Day_Minutes         3467 non-null   float64\n",
      " 7   Avg_Day_Calls           3467 non-null   int64  \n",
      " 8   Avg_Day_Charge          3467 non-null   float64\n",
      " 9   Avg_Eve_Minutes         3467 non-null   float64\n",
      " 10  Avg_Eve_Calls           3467 non-null   int64  \n",
      " 11  Avg_Eve_Charge          3467 non-null   float64\n",
      " 12  Avg_Night_Minutes       3467 non-null   float64\n",
      " 13  Avg_Night_Calls         3467 non-null   int64  \n",
      " 14  Avg_Night_Charge        3467 non-null   float64\n",
      " 15  Avg_Intl_Minutes        3467 non-null   float64\n",
      " 16  Avg_Intl_Calls          3467 non-null   int64  \n",
      " 17  Avg_Intl_Charge         3467 non-null   float64\n",
      " 18  Customer_Service_Calls  3467 non-null   int64  \n",
      " 19  Churn                   3467 non-null   int64  \n",
      "dtypes: float64(8), int64(11), object(1)\n",
      "memory usage: 541.8+ KB\n"
     ]
    }
   ],
   "source": [
    "df.info()"
   ]
  },
  {
   "cell_type": "code",
   "execution_count": 15,
   "id": "009931b6",
   "metadata": {},
   "outputs": [
    {
     "data": {
      "text/plain": [
       "Index(['State_Code', 'Account_Length_Months', 'Area_Code', 'Intl_Plan',\n",
       "       'VM_Plan', 'VM_Messages', 'Avg_Day_Minutes', 'Avg_Day_Calls',\n",
       "       'Avg_Day_Charge', 'Avg_Eve_Minutes', 'Avg_Eve_Calls', 'Avg_Eve_Charge',\n",
       "       'Avg_Night_Minutes', 'Avg_Night_Calls', 'Avg_Night_Charge',\n",
       "       'Avg_Intl_Minutes', 'Avg_Intl_Calls', 'Avg_Intl_Charge',\n",
       "       'Customer_Service_Calls', 'Churn'],\n",
       "      dtype='object')"
      ]
     },
     "execution_count": 15,
     "metadata": {},
     "output_type": "execute_result"
    }
   ],
   "source": [
    "df.columns"
   ]
  },
  {
   "cell_type": "markdown",
   "id": "97866e4e",
   "metadata": {},
   "source": [
    "## Data cleaning\n"
   ]
  },
  {
   "cell_type": "code",
   "execution_count": 50,
   "id": "033c1010",
   "metadata": {},
   "outputs": [
    {
     "data": {
      "text/html": [
       "<div>\n",
       "<style scoped>\n",
       "    .dataframe tbody tr th:only-of-type {\n",
       "        vertical-align: middle;\n",
       "    }\n",
       "\n",
       "    .dataframe tbody tr th {\n",
       "        vertical-align: top;\n",
       "    }\n",
       "\n",
       "    .dataframe thead th {\n",
       "        text-align: right;\n",
       "    }\n",
       "</style>\n",
       "<table border=\"1\" class=\"dataframe\">\n",
       "  <thead>\n",
       "    <tr style=\"text-align: right;\">\n",
       "      <th></th>\n",
       "      <th>State_Code</th>\n",
       "      <th>Account_Length_Months</th>\n",
       "      <th>Area_Code</th>\n",
       "      <th>Intl_Plan</th>\n",
       "      <th>VM_Plan</th>\n",
       "      <th>VM_Messages</th>\n",
       "      <th>Avg_Day_Minutes</th>\n",
       "      <th>Avg_Day_Calls</th>\n",
       "      <th>Avg_Day_Charge</th>\n",
       "      <th>Avg_Eve_Minutes</th>\n",
       "      <th>...</th>\n",
       "      <th>Total_Calls</th>\n",
       "      <th>Total_Charge</th>\n",
       "      <th>AON</th>\n",
       "      <th>Day_Rate</th>\n",
       "      <th>Eve_Rate</th>\n",
       "      <th>Night_Rate</th>\n",
       "      <th>Intl_Rate</th>\n",
       "      <th>day_usage</th>\n",
       "      <th>eve_usage</th>\n",
       "      <th>night_usage</th>\n",
       "    </tr>\n",
       "  </thead>\n",
       "  <tbody>\n",
       "  </tbody>\n",
       "</table>\n",
       "<p>0 rows × 31 columns</p>\n",
       "</div>"
      ],
      "text/plain": [
       "Empty DataFrame\n",
       "Columns: [State_Code, Account_Length_Months, Area_Code, Intl_Plan, VM_Plan, VM_Messages, Avg_Day_Minutes, Avg_Day_Calls, Avg_Day_Charge, Avg_Eve_Minutes, Avg_Eve_Calls, Avg_Eve_Charge, Avg_Night_Minutes, Avg_Night_Calls, Avg_Night_Charge, Avg_Intl_Minutes, Avg_Intl_Calls, Avg_Intl_Charge, Customer_Service_Calls, Churn, Total_Minutes, Total_Calls, Total_Charge, AON, Day_Rate, Eve_Rate, Night_Rate, Intl_Rate, day_usage, eve_usage, night_usage]\n",
       "Index: []\n",
       "\n",
       "[0 rows x 31 columns]"
      ]
     },
     "execution_count": 50,
     "metadata": {},
     "output_type": "execute_result"
    }
   ],
   "source": [
    "df.isna().sum()\n",
    "df.duplicated().sum()  # Total number of duplicate rows\n",
    "df[df.duplicated()]\n",
    "\n"
   ]
  },
  {
   "cell_type": "code",
   "execution_count": 51,
   "id": "6bd00c97",
   "metadata": {},
   "outputs": [
    {
     "data": {
      "image/png": "[encoded data removed]",
      "text/plain": [
       "<Figure size 1100x600 with 1 Axes>"
      ]
     },
     "metadata": {},
     "output_type": "display_data"
    }
   ],
   "source": [
    "sns.heatmap(df.isna(), cbar=False, cmap='viridis')\n",
    "plt.show()\n"
   ]
  },
  {
   "cell_type": "code",
   "execution_count": 17,
   "id": "72d61c98",
   "metadata": {},
   "outputs": [
    {
     "data": {
      "text/plain": [
       "0"
      ]
     },
     "execution_count": 17,
     "metadata": {},
     "output_type": "execute_result"
    }
   ],
   "source": [
    "df.duplicated().sum()"
   ]
  },
  {
   "cell_type": "markdown",
   "id": "51a7cb03",
   "metadata": {},
   "source": [
    "---\n",
    "### There are no null values in the dataset and no duplicates, the data is clean.\n",
    "\n",
    "---"
   ]
  },
  {
   "cell_type": "code",
   "execution_count": 18,
   "id": "563bb7ad",
   "metadata": {
    "scrolled": true
   },
   "outputs": [
    {
     "data": {
      "text/html": [
       "<div>\n",
       "<style scoped>\n",
       "    .dataframe tbody tr th:only-of-type {\n",
       "        vertical-align: middle;\n",
       "    }\n",
       "\n",
       "    .dataframe tbody tr th {\n",
       "        vertical-align: top;\n",
       "    }\n",
       "\n",
       "    .dataframe thead th {\n",
       "        text-align: right;\n",
       "    }\n",
       "</style>\n",
       "<table border=\"1\" class=\"dataframe\">\n",
       "  <thead>\n",
       "    <tr style=\"text-align: right;\">\n",
       "      <th></th>\n",
       "      <th>Account_Length_Months</th>\n",
       "      <th>Area_Code</th>\n",
       "      <th>Intl_Plan</th>\n",
       "      <th>VM_Plan</th>\n",
       "      <th>VM_Messages</th>\n",
       "      <th>Avg_Day_Minutes</th>\n",
       "      <th>Avg_Day_Calls</th>\n",
       "      <th>Avg_Day_Charge</th>\n",
       "      <th>Avg_Eve_Minutes</th>\n",
       "      <th>Avg_Eve_Calls</th>\n",
       "      <th>Avg_Eve_Charge</th>\n",
       "      <th>Avg_Night_Minutes</th>\n",
       "      <th>Avg_Night_Calls</th>\n",
       "      <th>Avg_Night_Charge</th>\n",
       "      <th>Avg_Intl_Minutes</th>\n",
       "      <th>Avg_Intl_Calls</th>\n",
       "      <th>Avg_Intl_Charge</th>\n",
       "      <th>Customer_Service_Calls</th>\n",
       "      <th>Churn</th>\n",
       "    </tr>\n",
       "  </thead>\n",
       "  <tbody>\n",
       "    <tr>\n",
       "      <th>count</th>\n",
       "      <td>3467.000000</td>\n",
       "      <td>3467.000000</td>\n",
       "      <td>3467.000000</td>\n",
       "      <td>3467.000000</td>\n",
       "      <td>3467.000000</td>\n",
       "      <td>3467.000000</td>\n",
       "      <td>3467.000000</td>\n",
       "      <td>3467.000000</td>\n",
       "      <td>3467.000000</td>\n",
       "      <td>3467.000000</td>\n",
       "      <td>3467.000000</td>\n",
       "      <td>3467.000000</td>\n",
       "      <td>3467.000000</td>\n",
       "      <td>3467.000000</td>\n",
       "      <td>3467.000000</td>\n",
       "      <td>3467.000000</td>\n",
       "      <td>3467.000000</td>\n",
       "      <td>3467.000000</td>\n",
       "      <td>3467.000000</td>\n",
       "    </tr>\n",
       "    <tr>\n",
       "      <th>mean</th>\n",
       "      <td>100.606288</td>\n",
       "      <td>436.620710</td>\n",
       "      <td>0.096048</td>\n",
       "      <td>0.262475</td>\n",
       "      <td>7.695991</td>\n",
       "      <td>195.642440</td>\n",
       "      <td>105.970003</td>\n",
       "      <td>36.037067</td>\n",
       "      <td>214.303825</td>\n",
       "      <td>105.993078</td>\n",
       "      <td>25.049262</td>\n",
       "      <td>203.181030</td>\n",
       "      <td>105.335449</td>\n",
       "      <td>10.162132</td>\n",
       "      <td>11.790730</td>\n",
       "      <td>4.827517</td>\n",
       "      <td>3.076752</td>\n",
       "      <td>1.571676</td>\n",
       "      <td>0.143640</td>\n",
       "    </tr>\n",
       "    <tr>\n",
       "      <th>std</th>\n",
       "      <td>39.841338</td>\n",
       "      <td>42.021174</td>\n",
       "      <td>0.294700</td>\n",
       "      <td>0.440043</td>\n",
       "      <td>13.509946</td>\n",
       "      <td>58.679758</td>\n",
       "      <td>21.163917</td>\n",
       "      <td>10.808548</td>\n",
       "      <td>53.649726</td>\n",
       "      <td>21.014681</td>\n",
       "      <td>6.270818</td>\n",
       "      <td>50.799019</td>\n",
       "      <td>21.255113</td>\n",
       "      <td>2.540708</td>\n",
       "      <td>3.186702</td>\n",
       "      <td>2.894911</td>\n",
       "      <td>0.831318</td>\n",
       "      <td>1.318664</td>\n",
       "      <td>0.350775</td>\n",
       "    </tr>\n",
       "    <tr>\n",
       "      <th>min</th>\n",
       "      <td>1.000000</td>\n",
       "      <td>408.000000</td>\n",
       "      <td>0.000000</td>\n",
       "      <td>0.000000</td>\n",
       "      <td>0.000000</td>\n",
       "      <td>0.000000</td>\n",
       "      <td>0.000000</td>\n",
       "      <td>0.000000</td>\n",
       "      <td>44.680000</td>\n",
       "      <td>13.000000</td>\n",
       "      <td>5.220000</td>\n",
       "      <td>0.000000</td>\n",
       "      <td>0.000000</td>\n",
       "      <td>0.000000</td>\n",
       "      <td>0.000000</td>\n",
       "      <td>0.000000</td>\n",
       "      <td>0.000000</td>\n",
       "      <td>0.000000</td>\n",
       "      <td>0.000000</td>\n",
       "    </tr>\n",
       "    <tr>\n",
       "      <th>25%</th>\n",
       "      <td>73.000000</td>\n",
       "      <td>408.000000</td>\n",
       "      <td>0.000000</td>\n",
       "      <td>0.000000</td>\n",
       "      <td>0.000000</td>\n",
       "      <td>154.810000</td>\n",
       "      <td>92.000000</td>\n",
       "      <td>28.510000</td>\n",
       "      <td>178.620000</td>\n",
       "      <td>92.000000</td>\n",
       "      <td>20.880000</td>\n",
       "      <td>169.570000</td>\n",
       "      <td>91.000000</td>\n",
       "      <td>8.480000</td>\n",
       "      <td>9.780000</td>\n",
       "      <td>3.000000</td>\n",
       "      <td>2.560000</td>\n",
       "      <td>1.000000</td>\n",
       "      <td>0.000000</td>\n",
       "    </tr>\n",
       "    <tr>\n",
       "      <th>50%</th>\n",
       "      <td>100.000000</td>\n",
       "      <td>415.000000</td>\n",
       "      <td>0.000000</td>\n",
       "      <td>0.000000</td>\n",
       "      <td>0.000000</td>\n",
       "      <td>195.780000</td>\n",
       "      <td>106.000000</td>\n",
       "      <td>36.070000</td>\n",
       "      <td>214.310000</td>\n",
       "      <td>106.000000</td>\n",
       "      <td>25.050000</td>\n",
       "      <td>203.750000</td>\n",
       "      <td>106.000000</td>\n",
       "      <td>10.190000</td>\n",
       "      <td>11.960000</td>\n",
       "      <td>4.000000</td>\n",
       "      <td>3.120000</td>\n",
       "      <td>1.000000</td>\n",
       "      <td>0.000000</td>\n",
       "    </tr>\n",
       "    <tr>\n",
       "      <th>75%</th>\n",
       "      <td>127.000000</td>\n",
       "      <td>415.000000</td>\n",
       "      <td>0.000000</td>\n",
       "      <td>1.000000</td>\n",
       "      <td>17.000000</td>\n",
       "      <td>234.540000</td>\n",
       "      <td>120.000000</td>\n",
       "      <td>43.200000</td>\n",
       "      <td>250.310000</td>\n",
       "      <td>121.000000</td>\n",
       "      <td>29.260000</td>\n",
       "      <td>237.570000</td>\n",
       "      <td>119.000000</td>\n",
       "      <td>11.880000</td>\n",
       "      <td>13.800000</td>\n",
       "      <td>7.000000</td>\n",
       "      <td>3.600000</td>\n",
       "      <td>2.000000</td>\n",
       "      <td>0.000000</td>\n",
       "    </tr>\n",
       "    <tr>\n",
       "      <th>max</th>\n",
       "      <td>243.000000</td>\n",
       "      <td>510.000000</td>\n",
       "      <td>1.000000</td>\n",
       "      <td>1.000000</td>\n",
       "      <td>52.000000</td>\n",
       "      <td>380.000000</td>\n",
       "      <td>175.000000</td>\n",
       "      <td>70.000000</td>\n",
       "      <td>376.750000</td>\n",
       "      <td>180.000000</td>\n",
       "      <td>44.040000</td>\n",
       "      <td>400.000000</td>\n",
       "      <td>185.000000</td>\n",
       "      <td>20.000000</td>\n",
       "      <td>23.000000</td>\n",
       "      <td>22.000000</td>\n",
       "      <td>6.000000</td>\n",
       "      <td>9.000000</td>\n",
       "      <td>1.000000</td>\n",
       "    </tr>\n",
       "  </tbody>\n",
       "</table>\n",
       "</div>"
      ],
      "text/plain": [
       "       Account_Length_Months    Area_Code    Intl_Plan      VM_Plan  \\\n",
       "count            3467.000000  3467.000000  3467.000000  3467.000000   \n",
       "mean              100.606288   436.620710     0.096048     0.262475   \n",
       "std                39.841338    42.021174     0.294700     0.440043   \n",
       "min                 1.000000   408.000000     0.000000     0.000000   \n",
       "25%                73.000000   408.000000     0.000000     0.000000   \n",
       "50%               100.000000   415.000000     0.000000     0.000000   \n",
       "75%               127.000000   415.000000     0.000000     1.000000   \n",
       "max               243.000000   510.000000     1.000000     1.000000   \n",
       "\n",
       "       VM_Messages  Avg_Day_Minutes  Avg_Day_Calls  Avg_Day_Charge  \\\n",
       "count  3467.000000      3467.000000    3467.000000     3467.000000   \n",
       "mean      7.695991       195.642440     105.970003       36.037067   \n",
       "std      13.509946        58.679758      21.163917       10.808548   \n",
       "min       0.000000         0.000000       0.000000        0.000000   \n",
       "25%       0.000000       154.810000      92.000000       28.510000   \n",
       "50%       0.000000       195.780000     106.000000       36.070000   \n",
       "75%      17.000000       234.540000     120.000000       43.200000   \n",
       "max      52.000000       380.000000     175.000000       70.000000   \n",
       "\n",
       "       Avg_Eve_Minutes  Avg_Eve_Calls  Avg_Eve_Charge  Avg_Night_Minutes  \\\n",
       "count      3467.000000    3467.000000     3467.000000        3467.000000   \n",
       "mean        214.303825     105.993078       25.049262         203.181030   \n",
       "std          53.649726      21.014681        6.270818          50.799019   \n",
       "min          44.680000      13.000000        5.220000           0.000000   \n",
       "25%         178.620000      92.000000       20.880000         169.570000   \n",
       "50%         214.310000     106.000000       25.050000         203.750000   \n",
       "75%         250.310000     121.000000       29.260000         237.570000   \n",
       "max         376.750000     180.000000       44.040000         400.000000   \n",
       "\n",
       "       Avg_Night_Calls  Avg_Night_Charge  Avg_Intl_Minutes  Avg_Intl_Calls  \\\n",
       "count      3467.000000       3467.000000       3467.000000     3467.000000   \n",
       "mean        105.335449         10.162132         11.790730        4.827517   \n",
       "std          21.255113          2.540708          3.186702        2.894911   \n",
       "min           0.000000          0.000000          0.000000        0.000000   \n",
       "25%          91.000000          8.480000          9.780000        3.000000   \n",
       "50%         106.000000         10.190000         11.960000        4.000000   \n",
       "75%         119.000000         11.880000         13.800000        7.000000   \n",
       "max         185.000000         20.000000         23.000000       22.000000   \n",
       "\n",
       "       Avg_Intl_Charge  Customer_Service_Calls        Churn  \n",
       "count      3467.000000             3467.000000  3467.000000  \n",
       "mean          3.076752                1.571676     0.143640  \n",
       "std           0.831318                1.318664     0.350775  \n",
       "min           0.000000                0.000000     0.000000  \n",
       "25%           2.560000                1.000000     0.000000  \n",
       "50%           3.120000                1.000000     0.000000  \n",
       "75%           3.600000                2.000000     0.000000  \n",
       "max           6.000000                9.000000     1.000000  "
      ]
     },
     "execution_count": 18,
     "metadata": {},
     "output_type": "execute_result"
    }
   ],
   "source": [
    "df.describe()"
   ]
  },
  {
   "cell_type": "code",
   "execution_count": 19,
   "id": "5b3c0322",
   "metadata": {},
   "outputs": [],
   "source": [
    "df[\"Total_Minutes\"] = (df[\"Avg_Day_Minutes\"] + df[\"Avg_Eve_Minutes\"] + df[\"Avg_Night_Minutes\"])\n",
    "df[\"Total_Calls\"] = (df[\"Avg_Day_Calls\"] + df[\"Avg_Eve_Calls\"] + df[\"Avg_Night_Calls\"])\n",
    "df[\"Total_Charge\"] = (df[\"Avg_Day_Charge\"] + df[\"Avg_Eve_Charge\"] + df[\"Avg_Night_Charge\"])"
   ]
  },
  {
   "cell_type": "code",
   "execution_count": 20,
   "id": "e13d0bdc",
   "metadata": {},
   "outputs": [
    {
     "data": {
      "text/html": [
       "<div>\n",
       "<style scoped>\n",
       "    .dataframe tbody tr th:only-of-type {\n",
       "        vertical-align: middle;\n",
       "    }\n",
       "\n",
       "    .dataframe tbody tr th {\n",
       "        vertical-align: top;\n",
       "    }\n",
       "\n",
       "    .dataframe thead th {\n",
       "        text-align: right;\n",
       "    }\n",
       "</style>\n",
       "<table border=\"1\" class=\"dataframe\">\n",
       "  <thead>\n",
       "    <tr style=\"text-align: right;\">\n",
       "      <th></th>\n",
       "      <th>Total_Minutes</th>\n",
       "      <th>Total_Calls</th>\n",
       "      <th>Total_Charge</th>\n",
       "    </tr>\n",
       "  </thead>\n",
       "  <tbody>\n",
       "    <tr>\n",
       "      <th>count</th>\n",
       "      <td>3467.000000</td>\n",
       "      <td>3467.000000</td>\n",
       "      <td>3467.000000</td>\n",
       "    </tr>\n",
       "    <tr>\n",
       "      <th>mean</th>\n",
       "      <td>613.127294</td>\n",
       "      <td>317.298529</td>\n",
       "      <td>71.248460</td>\n",
       "    </tr>\n",
       "    <tr>\n",
       "      <th>std</th>\n",
       "      <td>94.328388</td>\n",
       "      <td>36.413356</td>\n",
       "      <td>12.752973</td>\n",
       "    </tr>\n",
       "    <tr>\n",
       "      <th>min</th>\n",
       "      <td>289.380000</td>\n",
       "      <td>204.000000</td>\n",
       "      <td>28.460000</td>\n",
       "    </tr>\n",
       "    <tr>\n",
       "      <th>25%</th>\n",
       "      <td>549.545000</td>\n",
       "      <td>293.000000</td>\n",
       "      <td>62.490000</td>\n",
       "    </tr>\n",
       "    <tr>\n",
       "      <th>50%</th>\n",
       "      <td>613.800000</td>\n",
       "      <td>318.000000</td>\n",
       "      <td>71.390000</td>\n",
       "    </tr>\n",
       "    <tr>\n",
       "      <th>75%</th>\n",
       "      <td>677.065000</td>\n",
       "      <td>342.000000</td>\n",
       "      <td>79.830000</td>\n",
       "    </tr>\n",
       "    <tr>\n",
       "      <th>max</th>\n",
       "      <td>924.150000</td>\n",
       "      <td>434.000000</td>\n",
       "      <td>114.250000</td>\n",
       "    </tr>\n",
       "  </tbody>\n",
       "</table>\n",
       "</div>"
      ],
      "text/plain": [
       "       Total_Minutes  Total_Calls  Total_Charge\n",
       "count    3467.000000  3467.000000   3467.000000\n",
       "mean      613.127294   317.298529     71.248460\n",
       "std        94.328388    36.413356     12.752973\n",
       "min       289.380000   204.000000     28.460000\n",
       "25%       549.545000   293.000000     62.490000\n",
       "50%       613.800000   318.000000     71.390000\n",
       "75%       677.065000   342.000000     79.830000\n",
       "max       924.150000   434.000000    114.250000"
      ]
     },
     "execution_count": 20,
     "metadata": {},
     "output_type": "execute_result"
    }
   ],
   "source": [
    "df[[\"Total_Minutes\", \"Total_Calls\", \"Total_Charge\"]].describe()"
   ]
  },
  {
   "cell_type": "code",
   "execution_count": 21,
   "id": "a1bebd54",
   "metadata": {},
   "outputs": [],
   "source": [
    "def aon_slab(months):\n",
    "    if months <= 3: return \"00 - 03\"\n",
    "    elif months > 3 and months <= 6: return \"04 - 06\"\n",
    "    elif months > 6 and months <= 12: return \"07 - 12\"\n",
    "    elif months > 12 and months <= 24: return \"13 - 24\"\n",
    "    elif months > 24 and months <= 36: return \"25 - 36\"\n",
    "    elif months > 36 and months <= 60: return \"37 - 60\"\n",
    "    elif months > 60 and months <= 120: return \"61 - 120\"\n",
    "    elif months > 120: return \"More than 10 years\""
   ]
  },
  {
   "cell_type": "code",
   "execution_count": 22,
   "id": "4d38948f",
   "metadata": {},
   "outputs": [],
   "source": [
    "df[\"AON\"] = df[\"Account_Length_Months\"].apply(aon_slab)"
   ]
  },
  {
   "cell_type": "code",
   "execution_count": 23,
   "id": "ca9a3135",
   "metadata": {},
   "outputs": [],
   "source": [
    "df[\"Day_Rate\"] = df[\"Avg_Day_Charge\"]/df[\"Avg_Day_Minutes\"]\n",
    "df[\"Eve_Rate\"] = df[\"Avg_Eve_Charge\"]/df[\"Avg_Eve_Minutes\"]\n",
    "df[\"Night_Rate\"] = df[\"Avg_Night_Charge\"]/df[\"Avg_Night_Minutes\"]\n",
    "df[\"Intl_Rate\"] = df[\"Avg_Intl_Charge\"]/df[\"Avg_Intl_Minutes\"]"
   ]
  },
  {
   "cell_type": "code",
   "execution_count": 24,
   "id": "77a6e820",
   "metadata": {},
   "outputs": [
    {
     "data": {
      "text/html": [
       "<div>\n",
       "<style scoped>\n",
       "    .dataframe tbody tr th:only-of-type {\n",
       "        vertical-align: middle;\n",
       "    }\n",
       "\n",
       "    .dataframe tbody tr th {\n",
       "        vertical-align: top;\n",
       "    }\n",
       "\n",
       "    .dataframe thead th {\n",
       "        text-align: right;\n",
       "    }\n",
       "</style>\n",
       "<table border=\"1\" class=\"dataframe\">\n",
       "  <thead>\n",
       "    <tr style=\"text-align: right;\">\n",
       "      <th></th>\n",
       "      <th>Day_Rate</th>\n",
       "      <th>Eve_Rate</th>\n",
       "      <th>Night_Rate</th>\n",
       "    </tr>\n",
       "  </thead>\n",
       "  <tbody>\n",
       "    <tr>\n",
       "      <th>count</th>\n",
       "      <td>3465.000000</td>\n",
       "      <td>3467.000000</td>\n",
       "      <td>3466.000000</td>\n",
       "    </tr>\n",
       "    <tr>\n",
       "      <th>mean</th>\n",
       "      <td>0.184199</td>\n",
       "      <td>0.116887</td>\n",
       "      <td>0.050015</td>\n",
       "    </tr>\n",
       "    <tr>\n",
       "      <th>std</th>\n",
       "      <td>0.000036</td>\n",
       "      <td>0.000027</td>\n",
       "      <td>0.000025</td>\n",
       "    </tr>\n",
       "    <tr>\n",
       "      <th>min</th>\n",
       "      <td>0.183805</td>\n",
       "      <td>0.116785</td>\n",
       "      <td>0.049808</td>\n",
       "    </tr>\n",
       "    <tr>\n",
       "      <th>25%</th>\n",
       "      <td>0.184181</td>\n",
       "      <td>0.116869</td>\n",
       "      <td>0.050000</td>\n",
       "    </tr>\n",
       "    <tr>\n",
       "      <th>50%</th>\n",
       "      <td>0.184198</td>\n",
       "      <td>0.116887</td>\n",
       "      <td>0.050015</td>\n",
       "    </tr>\n",
       "    <tr>\n",
       "      <th>75%</th>\n",
       "      <td>0.184216</td>\n",
       "      <td>0.116904</td>\n",
       "      <td>0.050030</td>\n",
       "    </tr>\n",
       "    <tr>\n",
       "      <th>max</th>\n",
       "      <td>0.185053</td>\n",
       "      <td>0.117020</td>\n",
       "      <td>0.050169</td>\n",
       "    </tr>\n",
       "  </tbody>\n",
       "</table>\n",
       "</div>"
      ],
      "text/plain": [
       "          Day_Rate     Eve_Rate   Night_Rate\n",
       "count  3465.000000  3467.000000  3466.000000\n",
       "mean      0.184199     0.116887     0.050015\n",
       "std       0.000036     0.000027     0.000025\n",
       "min       0.183805     0.116785     0.049808\n",
       "25%       0.184181     0.116869     0.050000\n",
       "50%       0.184198     0.116887     0.050015\n",
       "75%       0.184216     0.116904     0.050030\n",
       "max       0.185053     0.117020     0.050169"
      ]
     },
     "execution_count": 24,
     "metadata": {},
     "output_type": "execute_result"
    }
   ],
   "source": [
    "df[[\"Day_Rate\", \"Eve_Rate\", \"Night_Rate\"]].describe()"
   ]
  },
  {
   "cell_type": "code",
   "execution_count": 25,
   "id": "401901ec",
   "metadata": {},
   "outputs": [],
   "source": [
    "df = df.sort_values(\"Account_Length_Months\")"
   ]
  },
  {
   "cell_type": "code",
   "execution_count": 26,
   "id": "c904bdb6",
   "metadata": {},
   "outputs": [],
   "source": [
    "df_churn = df[df[\"Churn\"] == 1]\n",
    "df_not_churn = df[df[\"Churn\"] == 0]"
   ]
  },
  {
   "cell_type": "markdown",
   "id": "f97a6256",
   "metadata": {},
   "source": [
    "# Demographic Analysis - EDA\n"
   ]
  },
  {
   "cell_type": "code",
   "execution_count": 27,
   "id": "d93db2f3",
   "metadata": {},
   "outputs": [],
   "source": [
    "df_pop = df[\"State_Code\"].value_counts()/len(df[\"State_Code\"]) * 100\n",
    "df_pop = pd.DataFrame(df_pop)\n",
    "df_pop.rename(columns = {'count':'Percentage'}, inplace = True)"
   ]
  },
  {
   "cell_type": "code",
   "execution_count": 28,
   "id": "2f3b5d79",
   "metadata": {},
   "outputs": [
    {
     "data": {
      "application/vnd.plotly.v1+json": {
       "config": {
        "plotlyServerURL": "https://plot.ly"
       },
       "data": [
        {
         "coloraxis": "coloraxis",
         "geo": "geo",
         "hovertemplate": "State_Code=%{location}<br>Percentage=%{z}<extra></extra>",
         "locationmode": "USA-states",
         "locations": [
          "MN",
          "UT",
          "WV",
          "AL",
          "VA",
          "TX",
          "ID",
          "NJ",
          "OH",
          "OR",
          "NY",
          "WY",
          "RI",
          "MA",
          "CT",
          "NV",
          "KS",
          "MO",
          "ME",
          "VT",
          "MT",
          "WI",
          "KY",
          "MI",
          "MS",
          "MD",
          "IN",
          "NH",
          "DC",
          "DE",
          "TN",
          "HI",
          "CO",
          "OK",
          "IL",
          "WA",
          "AR",
          "NM",
          "NC",
          "SD",
          "NE",
          "AZ",
          "LA",
          "SC",
          "FL",
          "GA",
          "ND",
          "IA",
          "AK",
          "PA",
          "CA"
         ],
         "name": "",
         "type": "choropleth",
         "z": [
          3.2304586097490624,
          2.5382174790885492,
          2.480530718200173,
          2.480530718200173,
          2.4228439573117972,
          2.4228439573117972,
          2.394000576867609,
          2.307470435535045,
          2.307470435535045,
          2.2786270550908565,
          2.2786270550908565,
          2.2786270550908565,
          2.2497836746466686,
          2.2209402942024803,
          2.1632535333141045,
          2.1055667724257283,
          2.0767233919815404,
          2.047880011537352,
          2.0190366310931642,
          2.0190366310931642,
          1.9901932506489761,
          1.9613498702047882,
          1.9613498702047882,
          1.9325064897606,
          1.9325064897606,
          1.903663109316412,
          1.903663109316412,
          1.903663109316412,
          1.903663109316412,
          1.874819728872224,
          1.8459763484280356,
          1.8459763484280356,
          1.8459763484280356,
          1.8459763484280356,
          1.8171329679838477,
          1.8171329679838477,
          1.7594462070954715,
          1.7306028266512834,
          1.7306028266512834,
          1.7306028266512834,
          1.7306028266512834,
          1.7017594462070955,
          1.6440726853187193,
          1.6152293048745312,
          1.5863859244303433,
          1.528699163541967,
          1.4710124026535911,
          1.442169022209403,
          1.3844822613210268,
          1.355638880876839,
          0.9806749351023941
         ]
        }
       ],
       "layout": {
        "coloraxis": {
         "colorbar": {
          "title": {
           "text": "Percentage"
          }
         },
         "colorscale": [
          [
           0,
           "#fde725"
          ],
          [
           0.1111111111111111,
           "#b5de2b"
          ],
          [
           0.2222222222222222,
           "#6ece58"
          ],
          [
           0.3333333333333333,
           "#35b779"
          ],
          [
           0.4444444444444444,
           "#1f9e89"
          ],
          [
           0.5555555555555556,
           "#26828e"
          ],
          [
           0.6666666666666666,
           "#31688e"
          ],
          [
           0.7777777777777778,
           "#3e4989"
          ],
          [
           0.8888888888888888,
           "#482878"
          ],
          [
           1,
           "#440154"
          ]
         ]
        },
        "geo": {
         "center": {},
         "domain": {
          "x": [
           0,
           1
          ],
          "y": [
           0,
           1
          ]
         },
         "scope": "usa"
        },
        "legend": {
         "tracegroupgap": 0
        },
        "template": {
         "data": {
          "bar": [
           {
            "error_x": {
             "color": "#2a3f5f"
            },
            "error_y": {
             "color": "#2a3f5f"
            },
            "marker": {
             "line": {
              "color": "#E5ECF6",
              "width": 0.5
             },
             "pattern": {
              "fillmode": "overlay",
              "size": 10,
              "solidity": 0.2
             }
            },
            "type": "bar"
           }
          ],
          "barpolar": [
           {
            "marker": {
             "line": {
              "color": "#E5ECF6",
              "width": 0.5
             },
             "pattern": {
              "fillmode": "overlay",
              "size": 10,
              "solidity": 0.2
             }
            },
            "type": "barpolar"
           }
          ],
          "carpet": [
           {
            "aaxis": {
             "endlinecolor": "#2a3f5f",
             "gridcolor": "white",
             "linecolor": "white",
             "minorgridcolor": "white",
             "startlinecolor": "#2a3f5f"
            },
            "baxis": {
             "endlinecolor": "#2a3f5f",
             "gridcolor": "white",
             "linecolor": "white",
             "minorgridcolor": "white",
             "startlinecolor": "#2a3f5f"
            },
            "type": "carpet"
           }
          ],
          "choropleth": [
           {
            "colorbar": {
             "outlinewidth": 0,
             "ticks": ""
            },
            "type": "choropleth"
           }
          ],
          "contour": [
           {
            "colorbar": {
             "outlinewidth": 0,
             "ticks": ""
            },
            "colorscale": [
             [
              0,
              "#0d0887"
             ],
             [
              0.1111111111111111,
              "#46039f"
             ],
             [
              0.2222222222222222,
              "#7201a8"
             ],
             [
              0.3333333333333333,
              "#9c179e"
             ],
             [
              0.4444444444444444,
              "#bd3786"
             ],
             [
              0.5555555555555556,
              "#d8576b"
             ],
             [
              0.6666666666666666,
              "#ed7953"
             ],
             [
              0.7777777777777778,
              "#fb9f3a"
             ],
             [
              0.8888888888888888,
              "#fdca26"
             ],
             [
              1,
              "#f0f921"
             ]
            ],
            "type": "contour"
           }
          ],
          "contourcarpet": [
           {
            "colorbar": {
             "outlinewidth": 0,
             "ticks": ""
            },
            "type": "contourcarpet"
           }
          ],
          "heatmap": [
           {
            "colorbar": {
             "outlinewidth": 0,
             "ticks": ""
            },
            "colorscale": [
             [
              0,
              "#0d0887"
             ],
             [
              0.1111111111111111,
              "#46039f"
             ],
             [
              0.2222222222222222,
              "#7201a8"
             ],
             [
              0.3333333333333333,
              "#9c179e"
             ],
             [
              0.4444444444444444,
              "#bd3786"
             ],
             [
              0.5555555555555556,
              "#d8576b"
             ],
             [
              0.6666666666666666,
              "#ed7953"
             ],
             [
              0.7777777777777778,
              "#fb9f3a"
             ],
             [
              0.8888888888888888,
              "#fdca26"
             ],
             [
              1,
              "#f0f921"
             ]
            ],
            "type": "heatmap"
           }
          ],
          "heatmapgl": [
           {
            "colorbar": {
             "outlinewidth": 0,
             "ticks": ""
            },
            "colorscale": [
             [
              0,
              "#0d0887"
             ],
             [
              0.1111111111111111,
              "#46039f"
             ],
             [
              0.2222222222222222,
              "#7201a8"
             ],
             [
              0.3333333333333333,
              "#9c179e"
             ],
             [
              0.4444444444444444,
              "#bd3786"
             ],
             [
              0.5555555555555556,
              "#d8576b"
             ],
             [
              0.6666666666666666,
              "#ed7953"
             ],
             [
              0.7777777777777778,
              "#fb9f3a"
             ],
             [
              0.8888888888888888,
              "#fdca26"
             ],
             [
              1,
              "#f0f921"
             ]
            ],
            "type": "heatmapgl"
           }
          ],
          "histogram": [
           {
            "marker": {
             "pattern": {
              "fillmode": "overlay",
              "size": 10,
              "solidity": 0.2
             }
            },
            "type": "histogram"
           }
          ],
          "histogram2d": [
           {
            "colorbar": {
             "outlinewidth": 0,
             "ticks": ""
            },
            "colorscale": [
             [
              0,
              "#0d0887"
             ],
             [
              0.1111111111111111,
              "#46039f"
             ],
             [
              0.2222222222222222,
              "#7201a8"
             ],
             [
              0.3333333333333333,
              "#9c179e"
             ],
             [
              0.4444444444444444,
              "#bd3786"
             ],
             [
              0.5555555555555556,
              "#d8576b"
             ],
             [
              0.6666666666666666,
              "#ed7953"
             ],
             [
              0.7777777777777778,
              "#fb9f3a"
             ],
             [
              0.8888888888888888,
              "#fdca26"
             ],
             [
              1,
              "#f0f921"
             ]
            ],
            "type": "histogram2d"
           }
          ],
          "histogram2dcontour": [
           {
            "colorbar": {
             "outlinewidth": 0,
             "ticks": ""
            },
            "colorscale": [
             [
              0,
              "#0d0887"
             ],
             [
              0.1111111111111111,
              "#46039f"
             ],
             [
              0.2222222222222222,
              "#7201a8"
             ],
             [
              0.3333333333333333,
              "#9c179e"
             ],
             [
              0.4444444444444444,
              "#bd3786"
             ],
             [
              0.5555555555555556,
              "#d8576b"
             ],
             [
              0.6666666666666666,
              "#ed7953"
             ],
             [
              0.7777777777777778,
              "#fb9f3a"
             ],
             [
              0.8888888888888888,
              "#fdca26"
             ],
             [
              1,
              "#f0f921"
             ]
            ],
            "type": "histogram2dcontour"
           }
          ],
          "mesh3d": [
           {
            "colorbar": {
             "outlinewidth": 0,
             "ticks": ""
            },
            "type": "mesh3d"
           }
          ],
          "parcoords": [
           {
            "line": {
             "colorbar": {
              "outlinewidth": 0,
              "ticks": ""
             }
            },
            "type": "parcoords"
           }
          ],
          "pie": [
           {
            "automargin": true,
            "type": "pie"
           }
          ],
          "scatter": [
           {
            "fillpattern": {
             "fillmode": "overlay",
             "size": 10,
             "solidity": 0.2
            },
            "type": "scatter"
           }
          ],
          "scatter3d": [
           {
            "line": {
             "colorbar": {
              "outlinewidth": 0,
              "ticks": ""
             }
            },
            "marker": {
             "colorbar": {
              "outlinewidth": 0,
              "ticks": ""
             }
            },
            "type": "scatter3d"
           }
          ],
          "scattercarpet": [
           {
            "marker": {
             "colorbar": {
              "outlinewidth": 0,
              "ticks": ""
             }
            },
            "type": "scattercarpet"
           }
          ],
          "scattergeo": [
           {
            "marker": {
             "colorbar": {
              "outlinewidth": 0,
              "ticks": ""
             }
            },
            "type": "scattergeo"
           }
          ],
          "scattergl": [
           {
            "marker": {
             "colorbar": {
              "outlinewidth": 0,
              "ticks": ""
             }
            },
            "type": "scattergl"
           }
          ],
          "scattermapbox": [
           {
            "marker": {
             "colorbar": {
              "outlinewidth": 0,
              "ticks": ""
             }
            },
            "type": "scattermapbox"
           }
          ],
          "scatterpolar": [
           {
            "marker": {
             "colorbar": {
              "outlinewidth": 0,
              "ticks": ""
             }
            },
            "type": "scatterpolar"
           }
          ],
          "scatterpolargl": [
           {
            "marker": {
             "colorbar": {
              "outlinewidth": 0,
              "ticks": ""
             }
            },
            "type": "scatterpolargl"
           }
          ],
          "scatterternary": [
           {
            "marker": {
             "colorbar": {
              "outlinewidth": 0,
              "ticks": ""
             }
            },
            "type": "scatterternary"
           }
          ],
          "surface": [
           {
            "colorbar": {
             "outlinewidth": 0,
             "ticks": ""
            },
            "colorscale": [
             [
              0,
              "#0d0887"
             ],
             [
              0.1111111111111111,
              "#46039f"
             ],
             [
              0.2222222222222222,
              "#7201a8"
             ],
             [
              0.3333333333333333,
              "#9c179e"
             ],
             [
              0.4444444444444444,
              "#bd3786"
             ],
             [
              0.5555555555555556,
              "#d8576b"
             ],
             [
              0.6666666666666666,
              "#ed7953"
             ],
             [
              0.7777777777777778,
              "#fb9f3a"
             ],
             [
              0.8888888888888888,
              "#fdca26"
             ],
             [
              1,
              "#f0f921"
             ]
            ],
            "type": "surface"
           }
          ],
          "table": [
           {
            "cells": {
             "fill": {
              "color": "#EBF0F8"
             },
             "line": {
              "color": "white"
             }
            },
            "header": {
             "fill": {
              "color": "#C8D4E3"
             },
             "line": {
              "color": "white"
             }
            },
            "type": "table"
           }
          ]
         },
         "layout": {
          "annotationdefaults": {
           "arrowcolor": "#2a3f5f",
           "arrowhead": 0,
           "arrowwidth": 1
          },
          "autotypenumbers": "strict",
          "coloraxis": {
           "colorbar": {
            "outlinewidth": 0,
            "ticks": ""
           }
          },
          "colorscale": {
           "diverging": [
            [
             0,
             "#8e0152"
            ],
            [
             0.1,
             "#c51b7d"
            ],
            [
             0.2,
             "#de77ae"
            ],
            [
             0.3,
             "#f1b6da"
            ],
            [
             0.4,
             "#fde0ef"
            ],
            [
             0.5,
             "#f7f7f7"
            ],
            [
             0.6,
             "#e6f5d0"
            ],
            [
             0.7,
             "#b8e186"
            ],
            [
             0.8,
             "#7fbc41"
            ],
            [
             0.9,
             "#4d9221"
            ],
            [
             1,
             "#276419"
            ]
           ],
           "sequential": [
            [
             0,
             "#0d0887"
            ],
            [
             0.1111111111111111,
             "#46039f"
            ],
            [
             0.2222222222222222,
             "#7201a8"
            ],
            [
             0.3333333333333333,
             "#9c179e"
            ],
            [
             0.4444444444444444,
             "#bd3786"
            ],
            [
             0.5555555555555556,
             "#d8576b"
            ],
            [
             0.6666666666666666,
             "#ed7953"
            ],
            [
             0.7777777777777778,
             "#fb9f3a"
            ],
            [
             0.8888888888888888,
             "#fdca26"
            ],
            [
             1,
             "#f0f921"
            ]
           ],
           "sequentialminus": [
            [
             0,
             "#0d0887"
            ],
            [
             0.1111111111111111,
             "#46039f"
            ],
            [
             0.2222222222222222,
             "#7201a8"
            ],
            [
             0.3333333333333333,
             "#9c179e"
            ],
            [
             0.4444444444444444,
             "#bd3786"
            ],
            [
             0.5555555555555556,
             "#d8576b"
            ],
            [
             0.6666666666666666,
             "#ed7953"
            ],
            [
             0.7777777777777778,
             "#fb9f3a"
            ],
            [
             0.8888888888888888,
             "#fdca26"
            ],
            [
             1,
             "#f0f921"
            ]
           ]
          },
          "colorway": [
           "#636efa",
           "#EF553B",
           "#00cc96",
           "#ab63fa",
           "#FFA15A",
           "#19d3f3",
           "#FF6692",
           "#B6E880",
           "#FF97FF",
           "#FECB52"
          ],
          "font": {
           "color": "#2a3f5f"
          },
          "geo": {
           "bgcolor": "white",
           "lakecolor": "white",
           "landcolor": "#E5ECF6",
           "showlakes": true,
           "showland": true,
           "subunitcolor": "white"
          },
          "hoverlabel": {
           "align": "left"
          },
          "hovermode": "closest",
          "mapbox": {
           "style": "light"
          },
          "paper_bgcolor": "white",
          "plot_bgcolor": "#E5ECF6",
          "polar": {
           "angularaxis": {
            "gridcolor": "white",
            "linecolor": "white",
            "ticks": ""
           },
           "bgcolor": "#E5ECF6",
           "radialaxis": {
            "gridcolor": "white",
            "linecolor": "white",
            "ticks": ""
           }
          },
          "scene": {
           "xaxis": {
            "backgroundcolor": "#E5ECF6",
            "gridcolor": "white",
            "gridwidth": 2,
            "linecolor": "white",
            "showbackground": true,
            "ticks": "",
            "zerolinecolor": "white"
           },
           "yaxis": {
            "backgroundcolor": "#E5ECF6",
            "gridcolor": "white",
            "gridwidth": 2,
            "linecolor": "white",
            "showbackground": true,
            "ticks": "",
            "zerolinecolor": "white"
           },
           "zaxis": {
            "backgroundcolor": "#E5ECF6",
            "gridcolor": "white",
            "gridwidth": 2,
            "linecolor": "white",
            "showbackground": true,
            "ticks": "",
            "zerolinecolor": "white"
           }
          },
          "shapedefaults": {
           "line": {
            "color": "#2a3f5f"
           }
          },
          "ternary": {
           "aaxis": {
            "gridcolor": "white",
            "linecolor": "white",
            "ticks": ""
           },
           "baxis": {
            "gridcolor": "white",
            "linecolor": "white",
            "ticks": ""
           },
           "bgcolor": "#E5ECF6",
           "caxis": {
            "gridcolor": "white",
            "linecolor": "white",
            "ticks": ""
           }
          },
          "title": {
           "x": 0.05
          },
          "xaxis": {
           "automargin": true,
           "gridcolor": "white",
           "linecolor": "white",
           "ticks": "",
           "title": {
            "standoff": 15
           },
           "zerolinecolor": "white",
           "zerolinewidth": 2
          },
          "yaxis": {
           "automargin": true,
           "gridcolor": "white",
           "linecolor": "white",
           "ticks": "",
           "title": {
            "standoff": 15
           },
           "zerolinecolor": "white",
           "zerolinewidth": 2
          }
         }
        },
        "title": {
         "text": "Tele-Density - Operator A",
         "x": 0.5
        }
       }
      }
     },
     "metadata": {},
     "output_type": "display_data"
    }
   ],
   "source": [
    "fig = px.choropleth(df_pop,\n",
    "                    locations=df_pop.index, \n",
    "                    locationmode=\"USA-states\", \n",
    "                    scope=\"usa\",\n",
    "                    color='Percentage',\n",
    "                    color_continuous_scale=\"Viridis_r\", \n",
    "                    title= \"Tele-Density - Operator A\"\n",
    "                    )\n",
    "fig.update_layout(title_x=0.5)\n",
    "fig.show()"
   ]
  },
  {
   "cell_type": "code",
   "execution_count": 29,
   "id": "47225825",
   "metadata": {},
   "outputs": [],
   "source": [
    "state_churn_pop = df_churn.groupby(\"State_Code\")[\"Churn\"].value_counts().reset_index()\n",
    "state_churn_pop[\"Percentage\"] = state_churn_pop[\"count\"]/state_churn_pop[\"count\"].sum()*100\n",
    "state_churn_pop = state_churn_pop.sort_values(\"Percentage\", ascending=False).reset_index(drop=True)"
   ]
  },
  {
   "cell_type": "code",
   "execution_count": 30,
   "id": "5de502f4",
   "metadata": {},
   "outputs": [
    {
     "data": {
      "application/vnd.plotly.v1+json": {
       "config": {
        "plotlyServerURL": "https://plot.ly"
       },
       "data": [
        {
         "coloraxis": "coloraxis",
         "geo": "geo",
         "hovertemplate": "State_Code=%{location}<br>Percentage=%{z}<extra></extra>",
         "locationmode": "USA-states",
         "locations": [
          "NY",
          "RI",
          "UT",
          "MS",
          "NJ",
          "WV",
          "VA",
          "IL",
          "IN",
          "MN",
          "TN",
          "KS",
          "NV",
          "ID",
          "TX",
          "WA",
          "AR",
          "MT",
          "CT",
          "CO",
          "MI",
          "FL",
          "VT",
          "AL",
          "NH",
          "OH",
          "WI",
          "WY",
          "CA",
          "ME",
          "NE",
          "DE",
          "KY",
          "NC",
          "GA",
          "SD",
          "SC",
          "ND",
          "LA",
          "OK",
          "MA",
          "MO",
          "AK",
          "PA",
          "OR",
          "IA",
          "HI",
          "MD",
          "NM",
          "DC",
          "AZ"
         ],
         "name": "",
         "type": "choropleth",
         "z": [
          4.819277108433735,
          3.815261044176707,
          3.815261044176707,
          3.0120481927710845,
          3.0120481927710845,
          3.0120481927710845,
          3.0120481927710845,
          2.8112449799196786,
          2.8112449799196786,
          2.610441767068273,
          2.610441767068273,
          2.610441767068273,
          2.4096385542168677,
          2.4096385542168677,
          2.4096385542168677,
          2.4096385542168677,
          2.4096385542168677,
          2.4096385542168677,
          2.208835341365462,
          2.208835341365462,
          2.208835341365462,
          2.0080321285140563,
          2.0080321285140563,
          2.0080321285140563,
          1.8072289156626504,
          1.8072289156626504,
          1.8072289156626504,
          1.8072289156626504,
          1.8072289156626504,
          1.8072289156626504,
          1.6064257028112447,
          1.6064257028112447,
          1.6064257028112447,
          1.4056224899598393,
          1.4056224899598393,
          1.4056224899598393,
          1.4056224899598393,
          1.2048192771084338,
          1.2048192771084338,
          1.2048192771084338,
          1.2048192771084338,
          1.2048192771084338,
          1.2048192771084338,
          1.0040160642570282,
          0.8032128514056224,
          0.8032128514056224,
          0.8032128514056224,
          0.8032128514056224,
          0.8032128514056224,
          0.8032128514056224,
          0.6024096385542169
         ]
        }
       ],
       "layout": {
        "coloraxis": {
         "colorbar": {
          "title": {
           "text": "Percentage"
          }
         },
         "colorscale": [
          [
           0,
           "#fde725"
          ],
          [
           0.1111111111111111,
           "#b5de2b"
          ],
          [
           0.2222222222222222,
           "#6ece58"
          ],
          [
           0.3333333333333333,
           "#35b779"
          ],
          [
           0.4444444444444444,
           "#1f9e89"
          ],
          [
           0.5555555555555556,
           "#26828e"
          ],
          [
           0.6666666666666666,
           "#31688e"
          ],
          [
           0.7777777777777778,
           "#3e4989"
          ],
          [
           0.8888888888888888,
           "#482878"
          ],
          [
           1,
           "#440154"
          ]
         ]
        },
        "geo": {
         "center": {},
         "domain": {
          "x": [
           0,
           1
          ],
          "y": [
           0,
           1
          ]
         },
         "scope": "usa"
        },
        "legend": {
         "tracegroupgap": 0
        },
        "template": {
         "data": {
          "bar": [
           {
            "error_x": {
             "color": "#2a3f5f"
            },
            "error_y": {
             "color": "#2a3f5f"
            },
            "marker": {
             "line": {
              "color": "#E5ECF6",
              "width": 0.5
             },
             "pattern": {
              "fillmode": "overlay",
              "size": 10,
              "solidity": 0.2
             }
            },
            "type": "bar"
           }
          ],
          "barpolar": [
           {
            "marker": {
             "line": {
              "color": "#E5ECF6",
              "width": 0.5
             },
             "pattern": {
              "fillmode": "overlay",
              "size": 10,
              "solidity": 0.2
             }
            },
            "type": "barpolar"
           }
          ],
          "carpet": [
           {
            "aaxis": {
             "endlinecolor": "#2a3f5f",
             "gridcolor": "white",
             "linecolor": "white",
             "minorgridcolor": "white",
             "startlinecolor": "#2a3f5f"
            },
            "baxis": {
             "endlinecolor": "#2a3f5f",
             "gridcolor": "white",
             "linecolor": "white",
             "minorgridcolor": "white",
             "startlinecolor": "#2a3f5f"
            },
            "type": "carpet"
           }
          ],
          "choropleth": [
           {
            "colorbar": {
             "outlinewidth": 0,
             "ticks": ""
            },
            "type": "choropleth"
           }
          ],
          "contour": [
           {
            "colorbar": {
             "outlinewidth": 0,
             "ticks": ""
            },
            "colorscale": [
             [
              0,
              "#0d0887"
             ],
             [
              0.1111111111111111,
              "#46039f"
             ],
             [
              0.2222222222222222,
              "#7201a8"
             ],
             [
              0.3333333333333333,
              "#9c179e"
             ],
             [
              0.4444444444444444,
              "#bd3786"
             ],
             [
              0.5555555555555556,
              "#d8576b"
             ],
             [
              0.6666666666666666,
              "#ed7953"
             ],
             [
              0.7777777777777778,
              "#fb9f3a"
             ],
             [
              0.8888888888888888,
              "#fdca26"
             ],
             [
              1,
              "#f0f921"
             ]
            ],
            "type": "contour"
           }
          ],
          "contourcarpet": [
           {
            "colorbar": {
             "outlinewidth": 0,
             "ticks": ""
            },
            "type": "contourcarpet"
           }
          ],
          "heatmap": [
           {
            "colorbar": {
             "outlinewidth": 0,
             "ticks": ""
            },
            "colorscale": [
             [
              0,
              "#0d0887"
             ],
             [
              0.1111111111111111,
              "#46039f"
             ],
             [
              0.2222222222222222,
              "#7201a8"
             ],
             [
              0.3333333333333333,
              "#9c179e"
             ],
             [
              0.4444444444444444,
              "#bd3786"
             ],
             [
              0.5555555555555556,
              "#d8576b"
             ],
             [
              0.6666666666666666,
              "#ed7953"
             ],
             [
              0.7777777777777778,
              "#fb9f3a"
             ],
             [
              0.8888888888888888,
              "#fdca26"
             ],
             [
              1,
              "#f0f921"
             ]
            ],
            "type": "heatmap"
           }
          ],
          "heatmapgl": [
           {
            "colorbar": {
             "outlinewidth": 0,
             "ticks": ""
            },
            "colorscale": [
             [
              0,
              "#0d0887"
             ],
             [
              0.1111111111111111,
              "#46039f"
             ],
             [
              0.2222222222222222,
              "#7201a8"
             ],
             [
              0.3333333333333333,
              "#9c179e"
             ],
             [
              0.4444444444444444,
              "#bd3786"
             ],
             [
              0.5555555555555556,
              "#d8576b"
             ],
             [
              0.6666666666666666,
              "#ed7953"
             ],
             [
              0.7777777777777778,
              "#fb9f3a"
             ],
             [
              0.8888888888888888,
              "#fdca26"
             ],
             [
              1,
              "#f0f921"
             ]
            ],
            "type": "heatmapgl"
           }
          ],
          "histogram": [
           {
            "marker": {
             "pattern": {
              "fillmode": "overlay",
              "size": 10,
              "solidity": 0.2
             }
            },
            "type": "histogram"
           }
          ],
          "histogram2d": [
           {
            "colorbar": {
             "outlinewidth": 0,
             "ticks": ""
            },
            "colorscale": [
             [
              0,
              "#0d0887"
             ],
             [
              0.1111111111111111,
              "#46039f"
             ],
             [
              0.2222222222222222,
              "#7201a8"
             ],
             [
              0.3333333333333333,
              "#9c179e"
             ],
             [
              0.4444444444444444,
              "#bd3786"
             ],
             [
              0.5555555555555556,
              "#d8576b"
             ],
             [
              0.6666666666666666,
              "#ed7953"
             ],
             [
              0.7777777777777778,
              "#fb9f3a"
             ],
             [
              0.8888888888888888,
              "#fdca26"
             ],
             [
              1,
              "#f0f921"
             ]
            ],
            "type": "histogram2d"
           }
          ],
          "histogram2dcontour": [
           {
            "colorbar": {
             "outlinewidth": 0,
             "ticks": ""
            },
            "colorscale": [
             [
              0,
              "#0d0887"
             ],
             [
              0.1111111111111111,
              "#46039f"
             ],
             [
              0.2222222222222222,
              "#7201a8"
             ],
             [
              0.3333333333333333,
              "#9c179e"
             ],
             [
              0.4444444444444444,
              "#bd3786"
             ],
             [
              0.5555555555555556,
              "#d8576b"
             ],
             [
              0.6666666666666666,
              "#ed7953"
             ],
             [
              0.7777777777777778,
              "#fb9f3a"
             ],
             [
              0.8888888888888888,
              "#fdca26"
             ],
             [
              1,
              "#f0f921"
             ]
            ],
            "type": "histogram2dcontour"
           }
          ],
          "mesh3d": [
           {
            "colorbar": {
             "outlinewidth": 0,
             "ticks": ""
            },
            "type": "mesh3d"
           }
          ],
          "parcoords": [
           {
            "line": {
             "colorbar": {
              "outlinewidth": 0,
              "ticks": ""
             }
            },
            "type": "parcoords"
           }
          ],
          "pie": [
           {
            "automargin": true,
            "type": "pie"
           }
          ],
          "scatter": [
           {
            "fillpattern": {
             "fillmode": "overlay",
             "size": 10,
             "solidity": 0.2
            },
            "type": "scatter"
           }
          ],
          "scatter3d": [
           {
            "line": {
             "colorbar": {
              "outlinewidth": 0,
              "ticks": ""
             }
            },
            "marker": {
             "colorbar": {
              "outlinewidth": 0,
              "ticks": ""
             }
            },
            "type": "scatter3d"
           }
          ],
          "scattercarpet": [
           {
            "marker": {
             "colorbar": {
              "outlinewidth": 0,
              "ticks": ""
             }
            },
            "type": "scattercarpet"
           }
          ],
          "scattergeo": [
           {
            "marker": {
             "colorbar": {
              "outlinewidth": 0,
              "ticks": ""
             }
            },
            "type": "scattergeo"
           }
          ],
          "scattergl": [
           {
            "marker": {
             "colorbar": {
              "outlinewidth": 0,
              "ticks": ""
             }
            },
            "type": "scattergl"
           }
          ],
          "scattermapbox": [
           {
            "marker": {
             "colorbar": {
              "outlinewidth": 0,
              "ticks": ""
             }
            },
            "type": "scattermapbox"
           }
          ],
          "scatterpolar": [
           {
            "marker": {
             "colorbar": {
              "outlinewidth": 0,
              "ticks": ""
             }
            },
            "type": "scatterpolar"
           }
          ],
          "scatterpolargl": [
           {
            "marker": {
             "colorbar": {
              "outlinewidth": 0,
              "ticks": ""
             }
            },
            "type": "scatterpolargl"
           }
          ],
          "scatterternary": [
           {
            "marker": {
             "colorbar": {
              "outlinewidth": 0,
              "ticks": ""
             }
            },
            "type": "scatterternary"
           }
          ],
          "surface": [
           {
            "colorbar": {
             "outlinewidth": 0,
             "ticks": ""
            },
            "colorscale": [
             [
              0,
              "#0d0887"
             ],
             [
              0.1111111111111111,
              "#46039f"
             ],
             [
              0.2222222222222222,
              "#7201a8"
             ],
             [
              0.3333333333333333,
              "#9c179e"
             ],
             [
              0.4444444444444444,
              "#bd3786"
             ],
             [
              0.5555555555555556,
              "#d8576b"
             ],
             [
              0.6666666666666666,
              "#ed7953"
             ],
             [
              0.7777777777777778,
              "#fb9f3a"
             ],
             [
              0.8888888888888888,
              "#fdca26"
             ],
             [
              1,
              "#f0f921"
             ]
            ],
            "type": "surface"
           }
          ],
          "table": [
           {
            "cells": {
             "fill": {
              "color": "#EBF0F8"
             },
             "line": {
              "color": "white"
             }
            },
            "header": {
             "fill": {
              "color": "#C8D4E3"
             },
             "line": {
              "color": "white"
             }
            },
            "type": "table"
           }
          ]
         },
         "layout": {
          "annotationdefaults": {
           "arrowcolor": "#2a3f5f",
           "arrowhead": 0,
           "arrowwidth": 1
          },
          "autotypenumbers": "strict",
          "coloraxis": {
           "colorbar": {
            "outlinewidth": 0,
            "ticks": ""
           }
          },
          "colorscale": {
           "diverging": [
            [
             0,
             "#8e0152"
            ],
            [
             0.1,
             "#c51b7d"
            ],
            [
             0.2,
             "#de77ae"
            ],
            [
             0.3,
             "#f1b6da"
            ],
            [
             0.4,
             "#fde0ef"
            ],
            [
             0.5,
             "#f7f7f7"
            ],
            [
             0.6,
             "#e6f5d0"
            ],
            [
             0.7,
             "#b8e186"
            ],
            [
             0.8,
             "#7fbc41"
            ],
            [
             0.9,
             "#4d9221"
            ],
            [
             1,
             "#276419"
            ]
           ],
           "sequential": [
            [
             0,
             "#0d0887"
            ],
            [
             0.1111111111111111,
             "#46039f"
            ],
            [
             0.2222222222222222,
             "#7201a8"
            ],
            [
             0.3333333333333333,
             "#9c179e"
            ],
            [
             0.4444444444444444,
             "#bd3786"
            ],
            [
             0.5555555555555556,
             "#d8576b"
            ],
            [
             0.6666666666666666,
             "#ed7953"
            ],
            [
             0.7777777777777778,
             "#fb9f3a"
            ],
            [
             0.8888888888888888,
             "#fdca26"
            ],
            [
             1,
             "#f0f921"
            ]
           ],
           "sequentialminus": [
            [
             0,
             "#0d0887"
            ],
            [
             0.1111111111111111,
             "#46039f"
            ],
            [
             0.2222222222222222,
             "#7201a8"
            ],
            [
             0.3333333333333333,
             "#9c179e"
            ],
            [
             0.4444444444444444,
             "#bd3786"
            ],
            [
             0.5555555555555556,
             "#d8576b"
            ],
            [
             0.6666666666666666,
             "#ed7953"
            ],
            [
             0.7777777777777778,
             "#fb9f3a"
            ],
            [
             0.8888888888888888,
             "#fdca26"
            ],
            [
             1,
             "#f0f921"
            ]
           ]
          },
          "colorway": [
           "#636efa",
           "#EF553B",
           "#00cc96",
           "#ab63fa",
           "#FFA15A",
           "#19d3f3",
           "#FF6692",
           "#B6E880",
           "#FF97FF",
           "#FECB52"
          ],
          "font": {
           "color": "#2a3f5f"
          },
          "geo": {
           "bgcolor": "white",
           "lakecolor": "white",
           "landcolor": "#E5ECF6",
           "showlakes": true,
           "showland": true,
           "subunitcolor": "white"
          },
          "hoverlabel": {
           "align": "left"
          },
          "hovermode": "closest",
          "mapbox": {
           "style": "light"
          },
          "paper_bgcolor": "white",
          "plot_bgcolor": "#E5ECF6",
          "polar": {
           "angularaxis": {
            "gridcolor": "white",
            "linecolor": "white",
            "ticks": ""
           },
           "bgcolor": "#E5ECF6",
           "radialaxis": {
            "gridcolor": "white",
            "linecolor": "white",
            "ticks": ""
           }
          },
          "scene": {
           "xaxis": {
            "backgroundcolor": "#E5ECF6",
            "gridcolor": "white",
            "gridwidth": 2,
            "linecolor": "white",
            "showbackground": true,
            "ticks": "",
            "zerolinecolor": "white"
           },
           "yaxis": {
            "backgroundcolor": "#E5ECF6",
            "gridcolor": "white",
            "gridwidth": 2,
            "linecolor": "white",
            "showbackground": true,
            "ticks": "",
            "zerolinecolor": "white"
           },
           "zaxis": {
            "backgroundcolor": "#E5ECF6",
            "gridcolor": "white",
            "gridwidth": 2,
            "linecolor": "white",
            "showbackground": true,
            "ticks": "",
            "zerolinecolor": "white"
           }
          },
          "shapedefaults": {
           "line": {
            "color": "#2a3f5f"
           }
          },
          "ternary": {
           "aaxis": {
            "gridcolor": "white",
            "linecolor": "white",
            "ticks": ""
           },
           "baxis": {
            "gridcolor": "white",
            "linecolor": "white",
            "ticks": ""
           },
           "bgcolor": "#E5ECF6",
           "caxis": {
            "gridcolor": "white",
            "linecolor": "white",
            "ticks": ""
           }
          },
          "title": {
           "x": 0.05
          },
          "xaxis": {
           "automargin": true,
           "gridcolor": "white",
           "linecolor": "white",
           "ticks": "",
           "title": {
            "standoff": 15
           },
           "zerolinecolor": "white",
           "zerolinewidth": 2
          },
          "yaxis": {
           "automargin": true,
           "gridcolor": "white",
           "linecolor": "white",
           "ticks": "",
           "title": {
            "standoff": 15
           },
           "zerolinecolor": "white",
           "zerolinewidth": 2
          }
         }
        },
        "title": {
         "text": "National Churn Ratio - State Wise",
         "x": 0.5
        }
       }
      }
     },
     "metadata": {},
     "output_type": "display_data"
    }
   ],
   "source": [
    "fig = px.choropleth(state_churn_pop,\n",
    "                    locations=\"State_Code\", \n",
    "                    locationmode=\"USA-states\", \n",
    "                    scope=\"usa\",\n",
    "                    color='Percentage',\n",
    "                    color_continuous_scale=\"Viridis_r\", \n",
    "                    title= \"National Churn Ratio - State Wise\"\n",
    "                    )\n",
    "fig.update_layout(title_x=0.5)\n",
    "fig.show()"
   ]
  },
  {
   "cell_type": "markdown",
   "id": "c8c22899",
   "metadata": {},
   "source": [
    "--- \n",
    "### Statewise Contribution to National Churn\n",
    "### Maximum churn is coming from state - New York (4.81%)\n",
    "\n",
    "---"
   ]
  },
  {
   "cell_type": "code",
   "execution_count": 31,
   "id": "edb30f95",
   "metadata": {},
   "outputs": [
    {
     "data": {
      "application/vnd.plotly.v1+json": {
       "config": {
        "plotlyServerURL": "https://plot.ly"
       },
       "data": [
        {
         "coloraxis": "coloraxis",
         "geo": "geo",
         "hovertemplate": "locations=%{location}<br>Percentage=%{z}<extra></extra>",
         "locationmode": "USA-states",
         "locations": [
          "NY",
          "CA",
          "RI",
          "MS",
          "IL",
          "UT",
          "IN",
          "TN",
          "AR",
          "WA",
          "NJ",
          "FL",
          "KS",
          "VA",
          "WV",
          "MT",
          "CO",
          "NV",
          "MI",
          "CT",
          "ID",
          "TX",
          "VT",
          "NH",
          "NE",
          "WI",
          "GA",
          "ME",
          "SC",
          "AK",
          "DE",
          "ND",
          "KY",
          "SD",
          "NC",
          "AL",
          "MN",
          "WY",
          "OH",
          "PA",
          "LA",
          "OK",
          "MO",
          "IA",
          "MA",
          "NM",
          "HI",
          "DC",
          "MD",
          "AZ",
          "OR"
         ],
         "name": "",
         "type": "choropleth",
         "z": [
          30.37974683544304,
          26.47058823529412,
          24.358974358974358,
          22.388059701492537,
          22.22222222222222,
          21.59090909090909,
          21.21212121212121,
          20.3125,
          19.672131147540984,
          19.047619047619047,
          18.75,
          18.181818181818183,
          18.055555555555554,
          17.857142857142858,
          17.441860465116278,
          17.391304347826086,
          17.1875,
          16.43835616438356,
          16.417910447761194,
          14.666666666666666,
          14.457831325301203,
          14.285714285714285,
          14.285714285714285,
          13.636363636363635,
          13.333333333333334,
          13.23529411764706,
          13.20754716981132,
          12.857142857142856,
          12.5,
          12.5,
          12.307692307692308,
          11.76470588235294,
          11.76470588235294,
          11.666666666666666,
          11.666666666666666,
          11.627906976744185,
          11.607142857142858,
          11.39240506329114,
          11.25,
          10.638297872340425,
          10.526315789473683,
          9.375,
          8.450704225352112,
          8,
          7.792207792207792,
          6.666666666666667,
          6.25,
          6.0606060606060606,
          6.0606060606060606,
          5.084745762711865,
          5.063291139240507
         ]
        }
       ],
       "layout": {
        "coloraxis": {
         "colorbar": {
          "title": {
           "text": "Percentage"
          }
         },
         "colorscale": [
          [
           0,
           "#fde725"
          ],
          [
           0.1111111111111111,
           "#b5de2b"
          ],
          [
           0.2222222222222222,
           "#6ece58"
          ],
          [
           0.3333333333333333,
           "#35b779"
          ],
          [
           0.4444444444444444,
           "#1f9e89"
          ],
          [
           0.5555555555555556,
           "#26828e"
          ],
          [
           0.6666666666666666,
           "#31688e"
          ],
          [
           0.7777777777777778,
           "#3e4989"
          ],
          [
           0.8888888888888888,
           "#482878"
          ],
          [
           1,
           "#440154"
          ]
         ]
        },
        "geo": {
         "center": {},
         "domain": {
          "x": [
           0,
           1
          ],
          "y": [
           0,
           1
          ]
         },
         "scope": "usa"
        },
        "legend": {
         "tracegroupgap": 0
        },
        "template": {
         "data": {
          "bar": [
           {
            "error_x": {
             "color": "#2a3f5f"
            },
            "error_y": {
             "color": "#2a3f5f"
            },
            "marker": {
             "line": {
              "color": "#E5ECF6",
              "width": 0.5
             },
             "pattern": {
              "fillmode": "overlay",
              "size": 10,
              "solidity": 0.2
             }
            },
            "type": "bar"
           }
          ],
          "barpolar": [
           {
            "marker": {
             "line": {
              "color": "#E5ECF6",
              "width": 0.5
             },
             "pattern": {
              "fillmode": "overlay",
              "size": 10,
              "solidity": 0.2
             }
            },
            "type": "barpolar"
           }
          ],
          "carpet": [
           {
            "aaxis": {
             "endlinecolor": "#2a3f5f",
             "gridcolor": "white",
             "linecolor": "white",
             "minorgridcolor": "white",
             "startlinecolor": "#2a3f5f"
            },
            "baxis": {
             "endlinecolor": "#2a3f5f",
             "gridcolor": "white",
             "linecolor": "white",
             "minorgridcolor": "white",
             "startlinecolor": "#2a3f5f"
            },
            "type": "carpet"
           }
          ],
          "choropleth": [
           {
            "colorbar": {
             "outlinewidth": 0,
             "ticks": ""
            },
            "type": "choropleth"
           }
          ],
          "contour": [
           {
            "colorbar": {
             "outlinewidth": 0,
             "ticks": ""
            },
            "colorscale": [
             [
              0,
              "#0d0887"
             ],
             [
              0.1111111111111111,
              "#46039f"
             ],
             [
              0.2222222222222222,
              "#7201a8"
             ],
             [
              0.3333333333333333,
              "#9c179e"
             ],
             [
              0.4444444444444444,
              "#bd3786"
             ],
             [
              0.5555555555555556,
              "#d8576b"
             ],
             [
              0.6666666666666666,
              "#ed7953"
             ],
             [
              0.7777777777777778,
              "#fb9f3a"
             ],
             [
              0.8888888888888888,
              "#fdca26"
             ],
             [
              1,
              "#f0f921"
             ]
            ],
            "type": "contour"
           }
          ],
          "contourcarpet": [
           {
            "colorbar": {
             "outlinewidth": 0,
             "ticks": ""
            },
            "type": "contourcarpet"
           }
          ],
          "heatmap": [
           {
            "colorbar": {
             "outlinewidth": 0,
             "ticks": ""
            },
            "colorscale": [
             [
              0,
              "#0d0887"
             ],
             [
              0.1111111111111111,
              "#46039f"
             ],
             [
              0.2222222222222222,
              "#7201a8"
             ],
             [
              0.3333333333333333,
              "#9c179e"
             ],
             [
              0.4444444444444444,
              "#bd3786"
             ],
             [
              0.5555555555555556,
              "#d8576b"
             ],
             [
              0.6666666666666666,
              "#ed7953"
             ],
             [
              0.7777777777777778,
              "#fb9f3a"
             ],
             [
              0.8888888888888888,
              "#fdca26"
             ],
             [
              1,
              "#f0f921"
             ]
            ],
            "type": "heatmap"
           }
          ],
          "heatmapgl": [
           {
            "colorbar": {
             "outlinewidth": 0,
             "ticks": ""
            },
            "colorscale": [
             [
              0,
              "#0d0887"
             ],
             [
              0.1111111111111111,
              "#46039f"
             ],
             [
              0.2222222222222222,
              "#7201a8"
             ],
             [
              0.3333333333333333,
              "#9c179e"
             ],
             [
              0.4444444444444444,
              "#bd3786"
             ],
             [
              0.5555555555555556,
              "#d8576b"
             ],
             [
              0.6666666666666666,
              "#ed7953"
             ],
             [
              0.7777777777777778,
              "#fb9f3a"
             ],
             [
              0.8888888888888888,
              "#fdca26"
             ],
             [
              1,
              "#f0f921"
             ]
            ],
            "type": "heatmapgl"
           }
          ],
          "histogram": [
           {
            "marker": {
             "pattern": {
              "fillmode": "overlay",
              "size": 10,
              "solidity": 0.2
             }
            },
            "type": "histogram"
           }
          ],
          "histogram2d": [
           {
            "colorbar": {
             "outlinewidth": 0,
             "ticks": ""
            },
            "colorscale": [
             [
              0,
              "#0d0887"
             ],
             [
              0.1111111111111111,
              "#46039f"
             ],
             [
              0.2222222222222222,
              "#7201a8"
             ],
             [
              0.3333333333333333,
              "#9c179e"
             ],
             [
              0.4444444444444444,
              "#bd3786"
             ],
             [
              0.5555555555555556,
              "#d8576b"
             ],
             [
              0.6666666666666666,
              "#ed7953"
             ],
             [
              0.7777777777777778,
              "#fb9f3a"
             ],
             [
              0.8888888888888888,
              "#fdca26"
             ],
             [
              1,
              "#f0f921"
             ]
            ],
            "type": "histogram2d"
           }
          ],
          "histogram2dcontour": [
           {
            "colorbar": {
             "outlinewidth": 0,
             "ticks": ""
            },
            "colorscale": [
             [
              0,
              "#0d0887"
             ],
             [
              0.1111111111111111,
              "#46039f"
             ],
             [
              0.2222222222222222,
              "#7201a8"
             ],
             [
              0.3333333333333333,
              "#9c179e"
             ],
             [
              0.4444444444444444,
              "#bd3786"
             ],
             [
              0.5555555555555556,
              "#d8576b"
             ],
             [
              0.6666666666666666,
              "#ed7953"
             ],
             [
              0.7777777777777778,
              "#fb9f3a"
             ],
             [
              0.8888888888888888,
              "#fdca26"
             ],
             [
              1,
              "#f0f921"
             ]
            ],
            "type": "histogram2dcontour"
           }
          ],
          "mesh3d": [
           {
            "colorbar": {
             "outlinewidth": 0,
             "ticks": ""
            },
            "type": "mesh3d"
           }
          ],
          "parcoords": [
           {
            "line": {
             "colorbar": {
              "outlinewidth": 0,
              "ticks": ""
             }
            },
            "type": "parcoords"
           }
          ],
          "pie": [
           {
            "automargin": true,
            "type": "pie"
           }
          ],
          "scatter": [
           {
            "fillpattern": {
             "fillmode": "overlay",
             "size": 10,
             "solidity": 0.2
            },
            "type": "scatter"
           }
          ],
          "scatter3d": [
           {
            "line": {
             "colorbar": {
              "outlinewidth": 0,
              "ticks": ""
             }
            },
            "marker": {
             "colorbar": {
              "outlinewidth": 0,
              "ticks": ""
             }
            },
            "type": "scatter3d"
           }
          ],
          "scattercarpet": [
           {
            "marker": {
             "colorbar": {
              "outlinewidth": 0,
              "ticks": ""
             }
            },
            "type": "scattercarpet"
           }
          ],
          "scattergeo": [
           {
            "marker": {
             "colorbar": {
              "outlinewidth": 0,
              "ticks": ""
             }
            },
            "type": "scattergeo"
           }
          ],
          "scattergl": [
           {
            "marker": {
             "colorbar": {
              "outlinewidth": 0,
              "ticks": ""
             }
            },
            "type": "scattergl"
           }
          ],
          "scattermapbox": [
           {
            "marker": {
             "colorbar": {
              "outlinewidth": 0,
              "ticks": ""
             }
            },
            "type": "scattermapbox"
           }
          ],
          "scatterpolar": [
           {
            "marker": {
             "colorbar": {
              "outlinewidth": 0,
              "ticks": ""
             }
            },
            "type": "scatterpolar"
           }
          ],
          "scatterpolargl": [
           {
            "marker": {
             "colorbar": {
              "outlinewidth": 0,
              "ticks": ""
             }
            },
            "type": "scatterpolargl"
           }
          ],
          "scatterternary": [
           {
            "marker": {
             "colorbar": {
              "outlinewidth": 0,
              "ticks": ""
             }
            },
            "type": "scatterternary"
           }
          ],
          "surface": [
           {
            "colorbar": {
             "outlinewidth": 0,
             "ticks": ""
            },
            "colorscale": [
             [
              0,
              "#0d0887"
             ],
             [
              0.1111111111111111,
              "#46039f"
             ],
             [
              0.2222222222222222,
              "#7201a8"
             ],
             [
              0.3333333333333333,
              "#9c179e"
             ],
             [
              0.4444444444444444,
              "#bd3786"
             ],
             [
              0.5555555555555556,
              "#d8576b"
             ],
             [
              0.6666666666666666,
              "#ed7953"
             ],
             [
              0.7777777777777778,
              "#fb9f3a"
             ],
             [
              0.8888888888888888,
              "#fdca26"
             ],
             [
              1,
              "#f0f921"
             ]
            ],
            "type": "surface"
           }
          ],
          "table": [
           {
            "cells": {
             "fill": {
              "color": "#EBF0F8"
             },
             "line": {
              "color": "white"
             }
            },
            "header": {
             "fill": {
              "color": "#C8D4E3"
             },
             "line": {
              "color": "white"
             }
            },
            "type": "table"
           }
          ]
         },
         "layout": {
          "annotationdefaults": {
           "arrowcolor": "#2a3f5f",
           "arrowhead": 0,
           "arrowwidth": 1
          },
          "autotypenumbers": "strict",
          "coloraxis": {
           "colorbar": {
            "outlinewidth": 0,
            "ticks": ""
           }
          },
          "colorscale": {
           "diverging": [
            [
             0,
             "#8e0152"
            ],
            [
             0.1,
             "#c51b7d"
            ],
            [
             0.2,
             "#de77ae"
            ],
            [
             0.3,
             "#f1b6da"
            ],
            [
             0.4,
             "#fde0ef"
            ],
            [
             0.5,
             "#f7f7f7"
            ],
            [
             0.6,
             "#e6f5d0"
            ],
            [
             0.7,
             "#b8e186"
            ],
            [
             0.8,
             "#7fbc41"
            ],
            [
             0.9,
             "#4d9221"
            ],
            [
             1,
             "#276419"
            ]
           ],
           "sequential": [
            [
             0,
             "#0d0887"
            ],
            [
             0.1111111111111111,
             "#46039f"
            ],
            [
             0.2222222222222222,
             "#7201a8"
            ],
            [
             0.3333333333333333,
             "#9c179e"
            ],
            [
             0.4444444444444444,
             "#bd3786"
            ],
            [
             0.5555555555555556,
             "#d8576b"
            ],
            [
             0.6666666666666666,
             "#ed7953"
            ],
            [
             0.7777777777777778,
             "#fb9f3a"
            ],
            [
             0.8888888888888888,
             "#fdca26"
            ],
            [
             1,
             "#f0f921"
            ]
           ],
           "sequentialminus": [
            [
             0,
             "#0d0887"
            ],
            [
             0.1111111111111111,
             "#46039f"
            ],
            [
             0.2222222222222222,
             "#7201a8"
            ],
            [
             0.3333333333333333,
             "#9c179e"
            ],
            [
             0.4444444444444444,
             "#bd3786"
            ],
            [
             0.5555555555555556,
             "#d8576b"
            ],
            [
             0.6666666666666666,
             "#ed7953"
            ],
            [
             0.7777777777777778,
             "#fb9f3a"
            ],
            [
             0.8888888888888888,
             "#fdca26"
            ],
            [
             1,
             "#f0f921"
            ]
           ]
          },
          "colorway": [
           "#636efa",
           "#EF553B",
           "#00cc96",
           "#ab63fa",
           "#FFA15A",
           "#19d3f3",
           "#FF6692",
           "#B6E880",
           "#FF97FF",
           "#FECB52"
          ],
          "font": {
           "color": "#2a3f5f"
          },
          "geo": {
           "bgcolor": "white",
           "lakecolor": "white",
           "landcolor": "#E5ECF6",
           "showlakes": true,
           "showland": true,
           "subunitcolor": "white"
          },
          "hoverlabel": {
           "align": "left"
          },
          "hovermode": "closest",
          "mapbox": {
           "style": "light"
          },
          "paper_bgcolor": "white",
          "plot_bgcolor": "#E5ECF6",
          "polar": {
           "angularaxis": {
            "gridcolor": "white",
            "linecolor": "white",
            "ticks": ""
           },
           "bgcolor": "#E5ECF6",
           "radialaxis": {
            "gridcolor": "white",
            "linecolor": "white",
            "ticks": ""
           }
          },
          "scene": {
           "xaxis": {
            "backgroundcolor": "#E5ECF6",
            "gridcolor": "white",
            "gridwidth": 2,
            "linecolor": "white",
            "showbackground": true,
            "ticks": "",
            "zerolinecolor": "white"
           },
           "yaxis": {
            "backgroundcolor": "#E5ECF6",
            "gridcolor": "white",
            "gridwidth": 2,
            "linecolor": "white",
            "showbackground": true,
            "ticks": "",
            "zerolinecolor": "white"
           },
           "zaxis": {
            "backgroundcolor": "#E5ECF6",
            "gridcolor": "white",
            "gridwidth": 2,
            "linecolor": "white",
            "showbackground": true,
            "ticks": "",
            "zerolinecolor": "white"
           }
          },
          "shapedefaults": {
           "line": {
            "color": "#2a3f5f"
           }
          },
          "ternary": {
           "aaxis": {
            "gridcolor": "white",
            "linecolor": "white",
            "ticks": ""
           },
           "baxis": {
            "gridcolor": "white",
            "linecolor": "white",
            "ticks": ""
           },
           "bgcolor": "#E5ECF6",
           "caxis": {
            "gridcolor": "white",
            "linecolor": "white",
            "ticks": ""
           }
          },
          "title": {
           "x": 0.05
          },
          "xaxis": {
           "automargin": true,
           "gridcolor": "white",
           "linecolor": "white",
           "ticks": "",
           "title": {
            "standoff": 15
           },
           "zerolinecolor": "white",
           "zerolinewidth": 2
          },
          "yaxis": {
           "automargin": true,
           "gridcolor": "white",
           "linecolor": "white",
           "ticks": "",
           "title": {
            "standoff": 15
           },
           "zerolinecolor": "white",
           "zerolinewidth": 2
          }
         }
        },
        "title": {
         "text": "% Churn to Subscriber Base - State Wise",
         "x": 0.5
        }
       }
      }
     },
     "metadata": {},
     "output_type": "display_data"
    }
   ],
   "source": [
    "fig = px.choropleth(locations=df.groupby(['State_Code'])['Churn'].mean().sort_values(ascending=False).index, \n",
    "                    locationmode=\"USA-states\", \n",
    "                    scope=\"usa\",\n",
    "                    color=df.groupby(['State_Code'])['Churn'].mean().sort_values(ascending=False)*100,\n",
    "                    color_continuous_scale=\"Viridis_r\", \n",
    "                    title= \"% Churn to Subscriber Base - State Wise\",\n",
    "                    labels={\"color\": \"Percentage\"}\n",
    "                    )\n",
    "fig.update_layout(title_x=0.5)\n",
    "fig.show()"
   ]
  },
  {
   "cell_type": "markdown",
   "id": "77aae766",
   "metadata": {},
   "source": [
    "---\n",
    "### Churn % to overall customer at the state. \n",
    "### *Alarming* situation in state California as it has lowest tele-density with second highest churn rate.\n",
    "\n",
    "---"
   ]
  },
  {
   "cell_type": "markdown",
   "id": "ce681781",
   "metadata": {},
   "source": [
    "# Feature Analysis"
   ]
  },
  {
   "cell_type": "code",
   "execution_count": 32,
   "id": "5dbd220c",
   "metadata": {},
   "outputs": [
    {
     "name": "stderr",
     "output_type": "stream",
     "text": [
      "/var/folders/y9/5mj0xxqn1xld71z_d25493sr0000gn/T/ipykernel_86808/2052701726.py:15: UserWarning:\n",
      "\n",
      "set_ticklabels() should only be used with a fixed number of ticks, i.e. after set_ticks() or using a FixedLocator.\n",
      "\n"
     ]
    },
    {
     "data": {
      "text/html": [
       "<div>\n",
       "<style scoped>\n",
       "    .dataframe tbody tr th:only-of-type {\n",
       "        vertical-align: middle;\n",
       "    }\n",
       "\n",
       "    .dataframe tbody tr th {\n",
       "        vertical-align: top;\n",
       "    }\n",
       "\n",
       "    .dataframe thead th {\n",
       "        text-align: right;\n",
       "    }\n",
       "</style>\n",
       "<table border=\"1\" class=\"dataframe\">\n",
       "  <thead>\n",
       "    <tr style=\"text-align: right;\">\n",
       "      <th></th>\n",
       "      <th>AON</th>\n",
       "      <th>Distribution</th>\n",
       "    </tr>\n",
       "  </thead>\n",
       "  <tbody>\n",
       "    <tr>\n",
       "      <th>0</th>\n",
       "      <td>00 - 03</td>\n",
       "      <td>14</td>\n",
       "    </tr>\n",
       "    <tr>\n",
       "      <th>1</th>\n",
       "      <td>04 - 06</td>\n",
       "      <td>5</td>\n",
       "    </tr>\n",
       "    <tr>\n",
       "      <th>2</th>\n",
       "      <td>07 - 12</td>\n",
       "      <td>16</td>\n",
       "    </tr>\n",
       "    <tr>\n",
       "      <th>3</th>\n",
       "      <td>13 - 24</td>\n",
       "      <td>53</td>\n",
       "    </tr>\n",
       "    <tr>\n",
       "      <th>4</th>\n",
       "      <td>25 - 36</td>\n",
       "      <td>97</td>\n",
       "    </tr>\n",
       "    <tr>\n",
       "      <th>5</th>\n",
       "      <td>37 - 60</td>\n",
       "      <td>364</td>\n",
       "    </tr>\n",
       "    <tr>\n",
       "      <th>6</th>\n",
       "      <td>61 - 120</td>\n",
       "      <td>1858</td>\n",
       "    </tr>\n",
       "    <tr>\n",
       "      <th>7</th>\n",
       "      <td>More than 10 years</td>\n",
       "      <td>1060</td>\n",
       "    </tr>\n",
       "  </tbody>\n",
       "</table>\n",
       "</div>"
      ],
      "text/plain": [
       "                  AON  Distribution\n",
       "0             00 - 03            14\n",
       "1             04 - 06             5\n",
       "2             07 - 12            16\n",
       "3             13 - 24            53\n",
       "4             25 - 36            97\n",
       "5             37 - 60           364\n",
       "6            61 - 120          1858\n",
       "7  More than 10 years          1060"
      ]
     },
     "execution_count": 32,
     "metadata": {},
     "output_type": "execute_result"
    },
    {
     "data": {
      "image/png": "[encoded data removed]",
      "text/plain": [
       "<Figure size 1200x600 with 2 Axes>"
      ]
     },
     "metadata": {},
     "output_type": "display_data"
    }
   ],
   "source": [
    "sns.set_style(\"white\")\n",
    "\n",
    "fig, ax1 = plt.subplots(figsize=(12, 6))\n",
    "temp1 = df.groupby(\"AON\")[\"Churn\"].count()\n",
    "plt.bar(x=temp1.index, height=temp1.values, label=\"Number of customers\" )\n",
    "ax1.set_ylabel(\"Number of Customers\")\n",
    "ax1.set_xlabel(\"AON (months)\")\n",
    "\n",
    "ax2 = ax1.twinx()\n",
    "ax2.set_ylim(0, 100)\n",
    "temp2 = (pd.crosstab(df[\"AON\"], df[\"Churn\"], normalize=\"index\")[1]*100).reset_index()\n",
    "plt.plot(temp2[\"AON\"], temp2[1], c=\"hotpink\", label=\"Churn Rate\")\n",
    "vals = ax2.get_yticks()\n",
    "ax2.set_ylabel(\"Churn Rate\")\n",
    "ax2.set_yticklabels(['{} %'.format(x) for x in vals])\n",
    "\n",
    "blue_patch = mpatches.Patch(color='blue', label='Number of customers')\n",
    "pink_patch = mpatches.Patch(color='hotpink', label='Churn rate')\n",
    "plt.legend(handles=[blue_patch, pink_patch], loc=\"upper left\");\n",
    "\n",
    "df.groupby(\"AON\")[\"Churn\"].count().reset_index().rename(columns={\"Churn\": \"Distribution\"})"
   ]
  },
  {
   "cell_type": "markdown",
   "id": "e49d310b",
   "metadata": {},
   "source": [
    "---\n",
    "### Based on AON analysis of customer distribution it is observed that fresh acquistion is not healthy.\n",
    "\n",
    "--- "
   ]
  },
  {
   "cell_type": "markdown",
   "id": "a1e56c1f",
   "metadata": {},
   "source": [
    "#### Styling graphs globally"
   ]
  },
  {
   "cell_type": "code",
   "execution_count": 33,
   "id": "b76b8fe8",
   "metadata": {},
   "outputs": [],
   "source": [
    "sns.set_style(\"whitegrid\")\n",
    "sns.color_palette(\"deep\")\n",
    "# plt.rc(\"axes.spines\", top=False, right=False)\n",
    "plt.rc(\"axes\", labelsize=14)\n",
    "plt.rc('xtick', labelsize=12)\n",
    "plt.rc('ytick', labelsize=12)\n",
    "plt.rc('legend', fontsize=13)\n",
    "plt.rc(\"figure\", figsize=(11,6))"
   ]
  },
  {
   "cell_type": "code",
   "execution_count": 34,
   "id": "3e61f65f",
   "metadata": {},
   "outputs": [
    {
     "data": {
      "text/html": [
       "<div>\n",
       "<style scoped>\n",
       "    .dataframe tbody tr th:only-of-type {\n",
       "        vertical-align: middle;\n",
       "    }\n",
       "\n",
       "    .dataframe tbody tr th {\n",
       "        vertical-align: top;\n",
       "    }\n",
       "\n",
       "    .dataframe thead th {\n",
       "        text-align: right;\n",
       "    }\n",
       "</style>\n",
       "<table border=\"1\" class=\"dataframe\">\n",
       "  <thead>\n",
       "    <tr style=\"text-align: right;\">\n",
       "      <th>Churn</th>\n",
       "      <th>AON</th>\n",
       "      <th>False</th>\n",
       "      <th>True</th>\n",
       "    </tr>\n",
       "  </thead>\n",
       "  <tbody>\n",
       "    <tr>\n",
       "      <th>0</th>\n",
       "      <td>00 - 03</td>\n",
       "      <td>85.71</td>\n",
       "      <td>14.29</td>\n",
       "    </tr>\n",
       "    <tr>\n",
       "      <th>1</th>\n",
       "      <td>04 - 06</td>\n",
       "      <td>100.00</td>\n",
       "      <td>0.00</td>\n",
       "    </tr>\n",
       "    <tr>\n",
       "      <th>2</th>\n",
       "      <td>07 - 12</td>\n",
       "      <td>93.75</td>\n",
       "      <td>6.25</td>\n",
       "    </tr>\n",
       "    <tr>\n",
       "      <th>3</th>\n",
       "      <td>13 - 24</td>\n",
       "      <td>86.79</td>\n",
       "      <td>13.21</td>\n",
       "    </tr>\n",
       "    <tr>\n",
       "      <th>4</th>\n",
       "      <td>25 - 36</td>\n",
       "      <td>87.63</td>\n",
       "      <td>12.37</td>\n",
       "    </tr>\n",
       "    <tr>\n",
       "      <th>5</th>\n",
       "      <td>37 - 60</td>\n",
       "      <td>87.36</td>\n",
       "      <td>12.64</td>\n",
       "    </tr>\n",
       "    <tr>\n",
       "      <th>6</th>\n",
       "      <td>61 - 120</td>\n",
       "      <td>84.82</td>\n",
       "      <td>15.18</td>\n",
       "    </tr>\n",
       "    <tr>\n",
       "      <th>7</th>\n",
       "      <td>More than 10 years</td>\n",
       "      <td>86.04</td>\n",
       "      <td>13.96</td>\n",
       "    </tr>\n",
       "  </tbody>\n",
       "</table>\n",
       "</div>"
      ],
      "text/plain": [
       "Churn                 AON   False   True\n",
       "0                 00 - 03   85.71  14.29\n",
       "1                 04 - 06  100.00   0.00\n",
       "2                 07 - 12   93.75   6.25\n",
       "3                 13 - 24   86.79  13.21\n",
       "4                 25 - 36   87.63  12.37\n",
       "5                 37 - 60   87.36  12.64\n",
       "6                61 - 120   84.82  15.18\n",
       "7      More than 10 years   86.04  13.96"
      ]
     },
     "execution_count": 34,
     "metadata": {},
     "output_type": "execute_result"
    },
    {
     "data": {
      "image/png": "[encoded data removed]",
      "text/plain": [
       "<Figure size 1100x600 with 1 Axes>"
      ]
     },
     "metadata": {},
     "output_type": "display_data"
    }
   ],
   "source": [
    "aon = (pd.crosstab(df.AON, df.Churn, normalize=\"index\")*100).round(2).reset_index()\n",
    "aon.plot(kind=\"bar\", x=\"AON\", figsize=(11, 6))\n",
    "plt.xticks(rotation=0)\n",
    "plt.legend(loc='center right', bbox_to_anchor=(1.1, 0.5), title=\"Churn\")\n",
    "plt.ylabel(\"Percentage\")\n",
    "plt.xlabel(\"Age On Network (months)\")\n",
    "plt.title(\"AON Wise - % Churn to Overall Base\")\n",
    "aon.rename(columns = {aon.columns[1]: \"False\", aon.columns[2]: \"True\"})"
   ]
  },
  {
   "cell_type": "code",
   "execution_count": 35,
   "id": "9432b5d0",
   "metadata": {},
   "outputs": [
    {
     "data": {
      "text/html": [
       "<div>\n",
       "<style scoped>\n",
       "    .dataframe tbody tr th:only-of-type {\n",
       "        vertical-align: middle;\n",
       "    }\n",
       "\n",
       "    .dataframe tbody tr th {\n",
       "        vertical-align: top;\n",
       "    }\n",
       "\n",
       "    .dataframe thead th {\n",
       "        text-align: right;\n",
       "    }\n",
       "</style>\n",
       "<table border=\"1\" class=\"dataframe\">\n",
       "  <thead>\n",
       "    <tr style=\"text-align: right;\">\n",
       "      <th></th>\n",
       "      <th>AON</th>\n",
       "      <th>count</th>\n",
       "    </tr>\n",
       "  </thead>\n",
       "  <tbody>\n",
       "    <tr>\n",
       "      <th>0</th>\n",
       "      <td>00 - 03</td>\n",
       "      <td>0.40</td>\n",
       "    </tr>\n",
       "    <tr>\n",
       "      <th>1</th>\n",
       "      <td>07 - 12</td>\n",
       "      <td>0.20</td>\n",
       "    </tr>\n",
       "    <tr>\n",
       "      <th>2</th>\n",
       "      <td>13 - 24</td>\n",
       "      <td>1.41</td>\n",
       "    </tr>\n",
       "    <tr>\n",
       "      <th>3</th>\n",
       "      <td>25 - 36</td>\n",
       "      <td>2.41</td>\n",
       "    </tr>\n",
       "    <tr>\n",
       "      <th>4</th>\n",
       "      <td>37 - 60</td>\n",
       "      <td>9.24</td>\n",
       "    </tr>\n",
       "    <tr>\n",
       "      <th>5</th>\n",
       "      <td>61 - 120</td>\n",
       "      <td>56.63</td>\n",
       "    </tr>\n",
       "    <tr>\n",
       "      <th>6</th>\n",
       "      <td>More than 10 years</td>\n",
       "      <td>29.72</td>\n",
       "    </tr>\n",
       "  </tbody>\n",
       "</table>\n",
       "</div>"
      ],
      "text/plain": [
       "                  AON  count\n",
       "0             00 - 03   0.40\n",
       "1             07 - 12   0.20\n",
       "2             13 - 24   1.41\n",
       "3             25 - 36   2.41\n",
       "4             37 - 60   9.24\n",
       "5            61 - 120  56.63\n",
       "6  More than 10 years  29.72"
      ]
     },
     "execution_count": 35,
     "metadata": {},
     "output_type": "execute_result"
    },
    {
     "data": {
      "image/png": "[encoded data removed]",
      "text/plain": [
       "<Figure size 1100x600 with 1 Axes>"
      ]
     },
     "metadata": {},
     "output_type": "display_data"
    }
   ],
   "source": [
    "a = ((df_churn[\"AON\"].value_counts(sort=False))/(df_churn[\"AON\"].value_counts().sum())*100).plot(kind=\"bar\", figsize=(11, 6))\n",
    "plt.xticks(rotation=0)\n",
    "plt.xlabel(\"AON (months)\")\n",
    "plt.ylabel(\"Percentage\")\n",
    "plt.title(\"AON Wise - Churn Ratio\");\n",
    "((df_churn[\"AON\"].value_counts(sort=False))/(df_churn[\"AON\"].value_counts().sum())*100).round(2).reset_index().rename(columns={})"
   ]
  },
  {
   "cell_type": "markdown",
   "id": "1ee4cf70",
   "metadata": {},
   "source": [
    "---\n",
    "### Customer of belonging to the AON slab of 61-120 months are the maximum contributors to overall churn.\n",
    "\n",
    "---"
   ]
  },
  {
   "cell_type": "markdown",
   "id": "c7371d7e",
   "metadata": {},
   "source": [
    "## International Plan customer analysis"
   ]
  },
  {
   "cell_type": "code",
   "execution_count": 36,
   "id": "7df993c6",
   "metadata": {},
   "outputs": [
    {
     "data": {
      "text/html": [
       "<div>\n",
       "<style scoped>\n",
       "    .dataframe tbody tr th:only-of-type {\n",
       "        vertical-align: middle;\n",
       "    }\n",
       "\n",
       "    .dataframe tbody tr th {\n",
       "        vertical-align: top;\n",
       "    }\n",
       "\n",
       "    .dataframe thead th {\n",
       "        text-align: right;\n",
       "    }\n",
       "</style>\n",
       "<table border=\"1\" class=\"dataframe\">\n",
       "  <thead>\n",
       "    <tr style=\"text-align: right;\">\n",
       "      <th>Churn</th>\n",
       "      <th>0</th>\n",
       "      <th>1</th>\n",
       "    </tr>\n",
       "    <tr>\n",
       "      <th>Intl_Plan</th>\n",
       "      <th></th>\n",
       "      <th></th>\n",
       "    </tr>\n",
       "  </thead>\n",
       "  <tbody>\n",
       "    <tr>\n",
       "      <th>0</th>\n",
       "      <td>88.640715</td>\n",
       "      <td>11.359285</td>\n",
       "    </tr>\n",
       "    <tr>\n",
       "      <th>1</th>\n",
       "      <td>57.357357</td>\n",
       "      <td>42.642643</td>\n",
       "    </tr>\n",
       "  </tbody>\n",
       "</table>\n",
       "</div>"
      ],
      "text/plain": [
       "Churn              0          1\n",
       "Intl_Plan                      \n",
       "0          88.640715  11.359285\n",
       "1          57.357357  42.642643"
      ]
     },
     "execution_count": 36,
     "metadata": {},
     "output_type": "execute_result"
    },
    {
     "data": {
      "image/png": "[encoded data removed]",
      "text/plain": [
       "<Figure size 1100x600 with 1 Axes>"
      ]
     },
     "metadata": {},
     "output_type": "display_data"
    }
   ],
   "source": [
    "(pd.crosstab(df[\"Intl_Plan\"], df[\"Churn\"], normalize=\"index\")*100).plot.bar();\n",
    "plt.xticks([0,1], labels=[\"False\", \"True\"], rotation=0)\n",
    "plt.ylabel(\"Percentage\")\n",
    "plt.xlabel(\"International Plan\");\n",
    "(pd.crosstab(df[\"Intl_Plan\"], df[\"Churn\"], normalize=\"index\")*100)"
   ]
  },
  {
   "cell_type": "markdown",
   "id": "49b319ec",
   "metadata": {},
   "source": [
    "---\n",
    "### Churn is high for customers with international plan.\n",
    "\n",
    "---"
   ]
  },
  {
   "cell_type": "code",
   "execution_count": 37,
   "id": "94e7bc8a",
   "metadata": {},
   "outputs": [
    {
     "name": "stdout",
     "output_type": "stream",
     "text": [
      "           Avg_Intl_Charge  Avg_Intl_Calls  Avg_Intl_Minutes  Intl_Rate\n",
      "Intl_Plan                                                              \n",
      "0                     3.07            4.82             11.77   0.260958\n",
      "1                     3.13            4.94             12.00   0.260908\n"
     ]
    },
    {
     "data": {
      "image/png": "[encoded data removed]",
      "text/plain": [
       "<Figure size 1100x600 with 4 Axes>"
      ]
     },
     "metadata": {},
     "output_type": "display_data"
    }
   ],
   "source": [
    "tmp1 = df.groupby(\"Intl_Plan\")[\"Avg_Intl_Charge\"].mean().round(2)\n",
    "tmp2 = df.groupby(\"Intl_Plan\")[\"Avg_Intl_Calls\"].mean().round(2)\n",
    "tmp3 = df.groupby([\"Intl_Plan\"])[\"Avg_Intl_Minutes\"].mean().round(2)\n",
    "tmp4 = df.groupby(\"Intl_Plan\")[\"Intl_Rate\"].mean()\n",
    "tmp = pd.concat([tmp1, tmp2, tmp3, tmp4], axis=1)\n",
    "print(tmp)\n",
    "\n",
    "plt.rc(\"axes\", labelsize=10)\n",
    "plt.rc('xtick', labelsize=8)\n",
    "plt.rc('ytick', labelsize=8)\n",
    "plt.rc(\"figure\", figsize=(11,6))\n",
    "\n",
    "fig, axes = plt.subplots(nrows=2, ncols=2)\n",
    "ax1 = tmp1.plot(kind=\"bar\", ax = axes[0, 0], width=0.25, xlabel=\"International Plan\", ylabel=\"Average Charge\", ylim=(0, 3.5), rot=0)\n",
    "ax1.bar_label(ax1.containers[0], label_type='edge')\n",
    "\n",
    "ax2 = tmp2.plot(kind=\"bar\", ax = axes[0, 1], width=0.25, xlabel=\"International Plan\", ylabel=\"Average Calls\", ylim=(0, 6), rot=0)\n",
    "ax2.bar_label(ax2.containers[0], label_type='edge')\n",
    "\n",
    "ax3 = tmp3.plot(kind=\"bar\", ax = axes[1, 0], width=0.25, xlabel=\"International Plan\", ylabel=\"Average Minutes\", ylim=(0, 14), rot=0)\n",
    "ax3.bar_label(ax3.containers[0], label_type='edge')\n",
    "\n",
    "ax4 = tmp4.plot(kind=\"bar\", ax = axes[1, 1], width=0.25, xlabel=\"International Plan\", ylabel=\"Rate\", ylim=(0, 0.3), rot=0)\n",
    "ax4.bar_label(ax4.containers[0], label_type='edge');"
   ]
  },
  {
   "cell_type": "markdown",
   "id": "c8c78fb7",
   "metadata": {},
   "source": [
    "---\n",
    "### Inline with industry trends customers with international plan have higher international usage.\n",
    "### There is no major difference in the *revenue* generated by an international plan customer versus non-interntional plan.\n",
    "### The call rate offered on the international plan is similar to a non-plan tariff, hence it could be a reason for higher churn of customers with international plan. "
   ]
  },
  {
   "cell_type": "markdown",
   "id": "958311ab",
   "metadata": {},
   "source": [
    "---\n",
    "### Churn Count of Customers with International Usage but No Active International Plan\n",
    "---"
   ]
  },
  {
   "cell_type": "code",
   "execution_count": 38,
   "id": "a9944fa5",
   "metadata": {},
   "outputs": [
    {
     "data": {
      "text/html": [
       "<div>\n",
       "<style scoped>\n",
       "    .dataframe tbody tr th:only-of-type {\n",
       "        vertical-align: middle;\n",
       "    }\n",
       "\n",
       "    .dataframe tbody tr th {\n",
       "        vertical-align: top;\n",
       "    }\n",
       "\n",
       "    .dataframe thead th {\n",
       "        text-align: right;\n",
       "    }\n",
       "</style>\n",
       "<table border=\"1\" class=\"dataframe\">\n",
       "  <thead>\n",
       "    <tr style=\"text-align: right;\">\n",
       "      <th></th>\n",
       "      <th>Churn</th>\n",
       "      <th>count</th>\n",
       "    </tr>\n",
       "  </thead>\n",
       "  <tbody>\n",
       "    <tr>\n",
       "      <th>0</th>\n",
       "      <td>0</td>\n",
       "      <td>2759</td>\n",
       "    </tr>\n",
       "    <tr>\n",
       "      <th>1</th>\n",
       "      <td>1</td>\n",
       "      <td>356</td>\n",
       "    </tr>\n",
       "  </tbody>\n",
       "</table>\n",
       "</div>"
      ],
      "text/plain": [
       "   Churn  count\n",
       "0      0   2759\n",
       "1      1    356"
      ]
     },
     "execution_count": 38,
     "metadata": {},
     "output_type": "execute_result"
    }
   ],
   "source": [
    "df[(df[\"Intl_Plan\"] == 0) & (df[\"Avg_Intl_Calls\"] != 0)][\"Churn\"].value_counts().reset_index()"
   ]
  },
  {
   "cell_type": "markdown",
   "id": "37a2eb4c",
   "metadata": {},
   "source": [
    "## Voice Mail Plan Analysis"
   ]
  },
  {
   "cell_type": "code",
   "execution_count": 39,
   "id": "c2c6a5a8",
   "metadata": {},
   "outputs": [
    {
     "data": {
      "image/png": "[encoded data removed]",
      "text/plain": [
       "<Figure size 1100x600 with 1 Axes>"
      ]
     },
     "metadata": {},
     "output_type": "display_data"
    }
   ],
   "source": [
    "(pd.crosstab(df[\"VM_Plan\"], df[\"Churn\"], normalize=\"index\")*100).plot.bar()\n",
    "plt.xticks([0,1], labels=[\"False\", \"True\"], rotation=0)\n",
    "plt.xlabel(\"Voice Mail Plan\")\n",
    "plt.ylabel(\"Percentage\");"
   ]
  },
  {
   "cell_type": "code",
   "execution_count": 40,
   "id": "ca44cdc6",
   "metadata": {},
   "outputs": [
    {
     "data": {
      "image/png": "[encoded data removed]",
      "text/plain": [
       "<Figure size 1100x600 with 1 Axes>"
      ]
     },
     "metadata": {},
     "output_type": "display_data"
    }
   ],
   "source": [
    "a = df[df[\"VM_Plan\"] == 1].sort_values(\"VM_Messages\", ascending=False)\n",
    "sns.boxplot(data=a, x=\"Churn\", y=\"VM_Messages\")\n",
    "plt.ylabel(\"Voice Mail Messages\");"
   ]
  },
  {
   "cell_type": "markdown",
   "id": "f42194f8",
   "metadata": {},
   "source": [
    "---\n",
    "### Customers with higher voice mail messages are churning more, which can be an indicative parameter to further validate network parameters resulting into call drops and unreachability.\n",
    "---"
   ]
  },
  {
   "cell_type": "markdown",
   "id": "b715aee5",
   "metadata": {},
   "source": [
    "## Customer Service Calls Analysis"
   ]
  },
  {
   "cell_type": "code",
   "execution_count": 41,
   "id": "ae623e8e",
   "metadata": {},
   "outputs": [
    {
     "data": {
      "text/html": [
       "<div>\n",
       "<style scoped>\n",
       "    .dataframe tbody tr th:only-of-type {\n",
       "        vertical-align: middle;\n",
       "    }\n",
       "\n",
       "    .dataframe tbody tr th {\n",
       "        vertical-align: top;\n",
       "    }\n",
       "\n",
       "    .dataframe thead th {\n",
       "        text-align: right;\n",
       "    }\n",
       "</style>\n",
       "<table border=\"1\" class=\"dataframe\">\n",
       "  <thead>\n",
       "    <tr style=\"text-align: right;\">\n",
       "      <th></th>\n",
       "      <th>Total_Population</th>\n",
       "      <th>Churn_Percentage</th>\n",
       "    </tr>\n",
       "    <tr>\n",
       "      <th>Customer_Service_Calls</th>\n",
       "      <th></th>\n",
       "      <th></th>\n",
       "    </tr>\n",
       "  </thead>\n",
       "  <tbody>\n",
       "    <tr>\n",
       "      <th>0</th>\n",
       "      <td>20.65</td>\n",
       "      <td>11.31</td>\n",
       "    </tr>\n",
       "    <tr>\n",
       "      <th>1</th>\n",
       "      <td>35.71</td>\n",
       "      <td>11.15</td>\n",
       "    </tr>\n",
       "    <tr>\n",
       "      <th>2</th>\n",
       "      <td>22.15</td>\n",
       "      <td>11.33</td>\n",
       "    </tr>\n",
       "    <tr>\n",
       "      <th>3</th>\n",
       "      <td>13.56</td>\n",
       "      <td>11.49</td>\n",
       "    </tr>\n",
       "    <tr>\n",
       "      <th>4</th>\n",
       "      <td>4.82</td>\n",
       "      <td>43.11</td>\n",
       "    </tr>\n",
       "    <tr>\n",
       "      <th>5</th>\n",
       "      <td>2.02</td>\n",
       "      <td>61.43</td>\n",
       "    </tr>\n",
       "    <tr>\n",
       "      <th>6</th>\n",
       "      <td>0.69</td>\n",
       "      <td>66.67</td>\n",
       "    </tr>\n",
       "    <tr>\n",
       "      <th>7</th>\n",
       "      <td>0.32</td>\n",
       "      <td>45.45</td>\n",
       "    </tr>\n",
       "    <tr>\n",
       "      <th>8</th>\n",
       "      <td>0.03</td>\n",
       "      <td>0.00</td>\n",
       "    </tr>\n",
       "    <tr>\n",
       "      <th>9</th>\n",
       "      <td>0.06</td>\n",
       "      <td>100.00</td>\n",
       "    </tr>\n",
       "  </tbody>\n",
       "</table>\n",
       "</div>"
      ],
      "text/plain": [
       "                        Total_Population  Churn_Percentage\n",
       "Customer_Service_Calls                                    \n",
       "0                                  20.65             11.31\n",
       "1                                  35.71             11.15\n",
       "2                                  22.15             11.33\n",
       "3                                  13.56             11.49\n",
       "4                                   4.82             43.11\n",
       "5                                   2.02             61.43\n",
       "6                                   0.69             66.67\n",
       "7                                   0.32             45.45\n",
       "8                                   0.03              0.00\n",
       "9                                   0.06            100.00"
      ]
     },
     "execution_count": 41,
     "metadata": {},
     "output_type": "execute_result"
    }
   ],
   "source": [
    "tmp1 = ((df.groupby(\"Customer_Service_Calls\").count()/len(df[\"Customer_Service_Calls\"]))[\"Churn\"]*100).round(2)\n",
    "tmp2 = ((pd.crosstab(df[\"Customer_Service_Calls\"], df[\"Churn\"], normalize=\"index\")*100)[1]).round(2)\n",
    "pd.concat([tmp1, tmp2], axis=1).rename(columns={\"Churn\": \"Total_Population\", 1: \"Churn_Percentage\"})"
   ]
  },
  {
   "cell_type": "markdown",
   "id": "c8d56b5a",
   "metadata": {},
   "source": [
    "---\n",
    "### Probability of customers churning out is high where calls made to customer service are greater than 3.\n",
    "### Out of the 20% customer base who have not made a customer service call, 11% have churned out. Hence difficult to analyse the reason of churn for these customers.\n",
    "---"
   ]
  },
  {
   "cell_type": "code",
   "execution_count": 42,
   "id": "2ad2694c",
   "metadata": {},
   "outputs": [],
   "source": [
    "df[\"day_usage\"]=df[\"Avg_Day_Minutes\"]/df[\"Total_Minutes\"]*100\n",
    "df[\"eve_usage\"]=df[\"Avg_Eve_Minutes\"]/df[\"Total_Minutes\"]*100\n",
    "df[\"night_usage\"]=df[\"Avg_Night_Minutes\"]/df[\"Total_Minutes\"]*100"
   ]
  },
  {
   "cell_type": "code",
   "execution_count": 43,
   "id": "e8aea598",
   "metadata": {},
   "outputs": [
    {
     "name": "stdout",
     "output_type": "stream",
     "text": [
      "% Churn of customers having more usage during the day = 22.16\n"
     ]
    }
   ],
   "source": [
    "perc = (df[(df[\"day_usage\"] > df[\"eve_usage\"]) & (df[\"day_usage\"] > df[\"night_usage\"])][\"Churn\"].mean()*100).round(2)\n",
    "print(\"% Churn of customers having more usage during the day = {}\".format(perc))"
   ]
  },
  {
   "cell_type": "code",
   "execution_count": 44,
   "id": "13a5f75c",
   "metadata": {},
   "outputs": [
    {
     "name": "stdout",
     "output_type": "stream",
     "text": [
      "% Churn of customers having more usage during the evening = 12.62\n"
     ]
    }
   ],
   "source": [
    "perc = (df[(df[\"eve_usage\"] > df[\"day_usage\"]) & (df[\"eve_usage\"] > df[\"night_usage\"])][\"Churn\"].mean()*100).round(2)\n",
    "print(\"% Churn of customers having more usage during the evening = {}\".format(perc))"
   ]
  },
  {
   "cell_type": "code",
   "execution_count": 45,
   "id": "08591b22",
   "metadata": {
    "scrolled": true
   },
   "outputs": [
    {
     "name": "stdout",
     "output_type": "stream",
     "text": [
      "% Churn of customers having more usage during the night = 13.06\n"
     ]
    }
   ],
   "source": [
    "perc =(df[(df[\"night_usage\"] > df[\"eve_usage\"]) & (df[\"night_usage\"] > df[\"eve_usage\"])][\"Churn\"].mean()*100).round(2)\n",
    "print(\"% Churn of customers having more usage during the night = {}\".format(perc))"
   ]
  },
  {
   "cell_type": "markdown",
   "id": "606afa39",
   "metadata": {},
   "source": [
    "---\n",
    "### Out of total universe of making high usage during day time, 22.16 % have churned out as compared to 12.62 and 13.06 for evening and night high usage base respectively indicating that they are getting a better tariff for day usage from some other operator.\n",
    "---"
   ]
  },
  {
   "cell_type": "code",
   "execution_count": 46,
   "id": "b1de58e9",
   "metadata": {},
   "outputs": [
    {
     "data": {
      "image/png": "[encoded data removed]",
      "text/plain": [
       "<Figure size 2000x1000 with 1 Axes>"
      ]
     },
     "metadata": {},
     "output_type": "display_data"
    }
   ],
   "source": [
    "percentage=[]\n",
    "min_value = int(df[\"Total_Minutes\"].min())\n",
    "max_value = int(df[\"Total_Minutes\"].max())\n",
    "for i in range(min_value,max_value,20):\n",
    "    percentage.append(df[(df[\"Total_Minutes\"]>=i) & (df[\"Total_Minutes\"]<i+20)][\"Churn\"].mean()*100)\n",
    "plt.figure(figsize=(20,10))\n",
    "plt.bar(np.arange(min_value,max_value,20), percentage, width=11)\n",
    "plt.xticks(np.arange(min_value,max_value,20))\n",
    "plt.ylabel('Churn Percent', fontsize=20)\n",
    "plt.xlabel('Total Minutes Spent in a Day', fontsize=20);"
   ]
  },
  {
   "cell_type": "code",
   "execution_count": 47,
   "id": "2c8a4ee9",
   "metadata": {},
   "outputs": [
    {
     "data": {
      "image/png": "[encoded data removed]",
      "text/plain": [
       "<Figure size 2000x1000 with 1 Axes>"
      ]
     },
     "metadata": {},
     "output_type": "display_data"
    }
   ],
   "source": [
    "percentage=[]\n",
    "min_value = int(df[\"Total_Charge\"].min())\n",
    "max_value = int(df[\"Total_Charge\"].max())\n",
    "for i in range(min_value,max_value,2):\n",
    "    percentage.append(df[(df[\"Total_Charge\"]>=i) & (df[\"Total_Charge\"]<i+2)][\"Churn\"].mean()*100)\n",
    "plt.figure(figsize=(20,10))\n",
    "plt.bar(np.arange(min_value,max_value,2), percentage, width=2)\n",
    "plt.xticks(np.arange(min_value,max_value,2))\n",
    "plt.ylabel('Churn Percent', fontsize=20)\n",
    "plt.xlabel('Total Money Spent in a Day', fontsize=20);\n"
   ]
  },
  {
   "cell_type": "markdown",
   "id": "5363e76c",
   "metadata": {},
   "source": [
    "---\n",
    "### Assuming these are post paid customers, there is a trend of high usage before the customers churn resulting into default and bad debts for the operator.\n",
    "---"
   ]
  },
  {
   "cell_type": "markdown",
   "id": "d6c2b079",
   "metadata": {},
   "source": []
  }
 ],
 "metadata": {
  "kernelspec": {
   "display_name": "base",
   "language": "python",
   "name": "python3"
  },
  "language_info": {
   "codemirror_mode": {
    "name": "ipython",
    "version": 3
   },
   "file_extension": ".py",
   "mimetype": "text/x-python",
   "name": "python",
   "nbconvert_exporter": "python",
   "pygments_lexer": "ipython3",
   "version": "3.12.4"
  }
 },
 "nbformat": 4,
 "nbformat_minor": 5
}
